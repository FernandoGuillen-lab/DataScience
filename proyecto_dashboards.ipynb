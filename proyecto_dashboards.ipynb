{
  "nbformat": 4,
  "nbformat_minor": 0,
  "metadata": {
    "colab": {
      "provenance": [],
      "mount_file_id": "1r-T-CjTy5cFlFqTCE24UVYMFzC3K3GKX",
      "authorship_tag": "ABX9TyPafleqYM8llDgsnxEZsKIc",
      "include_colab_link": true
    },
    "kernelspec": {
      "name": "python3",
      "display_name": "Python 3"
    },
    "language_info": {
      "name": "python"
    }
  },
  "cells": [
    {
      "cell_type": "markdown",
      "metadata": {
        "id": "view-in-github",
        "colab_type": "text"
      },
      "source": [
        "<a href=\"https://colab.research.google.com/github/FernandoGuillen-lab/DataScience/blob/main/proyecto_dashboards.ipynb\" target=\"_parent\"><img src=\"https://colab.research.google.com/assets/colab-badge.svg\" alt=\"Open In Colab\"/></a>"
      ]
    },
    {
      "cell_type": "code",
      "source": [
        "!pip install streamlit"
      ],
      "metadata": {
        "id": "gdc2620lwHPW"
      },
      "execution_count": null,
      "outputs": []
    },
    {
      "cell_type": "code",
      "source": [
        "import pandas as pd\n",
        "import streamlit as st\n",
        "import altair as alt\n",
        "import numpy as np\n",
        "import plotly.express as px\n",
        "import datetime\n",
        "from PIL import Image\n",
        "from vega_datasets import data as vega_data\n",
        "from bokeh.plotting import  figure, output_file, show\n",
        "from bokeh.models import  ColumnDataSource\n",
        "\n"
      ],
      "metadata": {
        "id": "iJKBh0V5vdYg"
      },
      "execution_count": null,
      "outputs": []
    },
    {
      "cell_type": "code",
      "source": [
        "df=pd.read_csv(\"/content/drive/MyDrive/Colab Notebooks/0.xkyppt776w0.6ejdpr7u4zjEmployee_data.csv\")\n",
        "\n",
        "df.columns\n"
      ],
      "metadata": {
        "id": "TETmEM2y1Euj",
        "colab": {
          "base_uri": "https://localhost:8080/"
        },
        "outputId": "0aa3010d-1901-4d06-ea7d-ca41c03a58f3"
      },
      "execution_count": null,
      "outputs": [
        {
          "output_type": "execute_result",
          "data": {
            "text/plain": [
              "Index(['id_employee', 'name_employee', 'performance_score', 'salary',\n",
              "       'position_id', 'position', 'average_work_hours', 'birth_date', 'gender',\n",
              "       'marital_status', 'hiring_date', 'employment_status', 'department',\n",
              "       'manager_name', 'manager_id', 'recruitment_source',\n",
              "       'performance_score_desc', 'satisfaction_level', 'last_performance_date',\n",
              "       'absences', 'age'],\n",
              "      dtype='object')"
            ]
          },
          "metadata": {},
          "execution_count": 3
        }
      ]
    },
    {
      "cell_type": "code",
      "source": [
        "#•\tCódigo que contenga las instrucciones para el despliegue de un título y una breve descripción de la aplicación web.\n",
        "st.title(\"Desempeño de los colaboradores\")\n",
        "st.write(\"Esta aplicación fue diseñada para visualizar diferentes datos de los colaboradores de Socialize your knowledge, de acuerdo a lo que requiera el ususario, dando diferentes opciones o herramientas para una mejor visualización\")\n",
        "\n"
      ],
      "metadata": {
        "id": "sVjOL9tBlZhl"
      },
      "execution_count": null,
      "outputs": []
    },
    {
      "cell_type": "code",
      "source": [
        "#•\tCódigo que permita desplegar el logotipo de la empresa en la aplicación web.\n",
        "\n",
        "imagen=Image.open(\"/content/drive/MyDrive/Colab Notebooks/socialize_image.png\")\n",
        "st.image(imagen, caption=\"Socialize your knowledge\")"
      ],
      "metadata": {
        "id": "iq6XjMzqF_FS",
        "colab": {
          "base_uri": "https://localhost:8080/"
        },
        "outputId": "aaad1d1b-c8aa-4fa5-96fa-0ff625f5607a"
      },
      "execution_count": null,
      "outputs": [
        {
          "output_type": "execute_result",
          "data": {
            "text/plain": [
              "DeltaGenerator()"
            ]
          },
          "metadata": {},
          "execution_count": 5
        }
      ]
    },
    {
      "cell_type": "code",
      "source": [
        "#•\tCódigo que permita desplegar un control para seleccionar el género del empleado.\n",
        "\n",
        "genero=st.selectbox(\"seleccione Genero\",df[\"gender\"].unique())\n",
        "st.write(f\"Escoje una opción: {genero!r}\")"
      ],
      "metadata": {
        "id": "O2-ygQBBGW9D"
      },
      "execution_count": null,
      "outputs": []
    },
    {
      "cell_type": "code",
      "source": [
        "#•\tCódigo que permita desplegar un control para seleccionar un rango del puntaje de desempeño del empleado.\n",
        "\n",
        "rango=st.expander(\"Puntaje del desempeño\",True)\n",
        "\n",
        "rango_sel=rango.slider(\"Selecciona el rango\", minimo=float(df[\"performance_score\"].min()), maximo=float(df[\"performance_score\"].max()))\n",
        "\n",
        "con=df[(df[\"performance_score\"]>=rango_sel)]\n",
        "\n",
        "st.write(f\"Puntaje de desempeño {rango_sel}:{con.shape[0]}\")"
      ],
      "metadata": {
        "id": "Ej-uGKdDGb0c"
      },
      "execution_count": null,
      "outputs": []
    },
    {
      "cell_type": "code",
      "source": [
        "#•\tCódigo que permita desplegar un control para seleccionar el estado civil del empleado.\n",
        "\n",
        "ec=st.radio(\"Estado civil\",df[\"marital_status\"].unique())\n",
        "st.write(\"Estado civil:\")"
      ],
      "metadata": {
        "id": "La2rRqEyGf-L"
      },
      "execution_count": null,
      "outputs": []
    },
    {
      "cell_type": "code",
      "source": [
        "#•\tCódigo que permita mostrar un gráfico en donde se visualice la distribución de los puntajes de desempeño.\n",
        "st.title(\"Distribución de los puntajes de desempeño\")\n",
        "\n",
        "fig=px.histogram(df,x=\"performance_score\", title=\"Desempeño\")\n",
        "\n",
        "fig.show()\n",
        "\n"
      ],
      "metadata": {
        "id": "jwmNjyLAGre7"
      },
      "execution_count": null,
      "outputs": []
    },
    {
      "cell_type": "code",
      "source": [
        "#•\tCódigo que permita mostrar un gráfico en donde se visualice el promedio de horas trabajadas por el género del empleado.\n",
        "\n",
        "promhg=df.groupby(\"gender\")[\"average_work_hours\"]\n",
        "\n",
        "fig=px.bar(promhg,x=\"gender\",y=\"average_work_hours\", title=\"Promedio de horas trabajdas por genero\")\n",
        "\n",
        "fig.show()"
      ],
      "metadata": {
        "id": "xiXq7l0DGv8o"
      },
      "execution_count": null,
      "outputs": []
    },
    {
      "cell_type": "code",
      "source": [
        "\n",
        "#•\tCódigo que permita mostrar un gráfico en donde se visualice la edad de los empleados con respecto al salario de los mismo.\n",
        "\n",
        "st.title(\"Relación edad - salario\")\n",
        "\n",
        "df[\"birth_date\"]=pd.to_datetime(df[\"birth_date\"])\n",
        "hoy=datetime.datetime.now()\n",
        "df[\"edad\"]=(hoy - df[\"birth_date\"]).astype(\"<m8[Y]\")\n",
        "\n",
        "\n",
        "fig=px.scatter(df,x=\"edad\",y=\"salary\", title=\"Promedio de horas trabajdas por genero\")\n",
        "\n",
        "st.plotly_chart(fig)"
      ],
      "metadata": {
        "id": "s9pNpBwWG610",
        "colab": {
          "base_uri": "https://localhost:8080/"
        },
        "outputId": "fcd0e779-0fc9-4396-feff-7a1dd0d693e1"
      },
      "execution_count": null,
      "outputs": [
        {
          "output_type": "execute_result",
          "data": {
            "text/plain": [
              "DeltaGenerator()"
            ]
          },
          "metadata": {},
          "execution_count": 16
        }
      ]
    },
    {
      "cell_type": "code",
      "source": [
        "#•\tCódigo que permita mostrar un gráfico en donde se visualice la relación del promedio de horas trabajadas versus el puntaje de desempeño.\n",
        "\n",
        "st.title(\"Relación del promedio de horas trabajadas y el puntaje de desempeño\")\n",
        "\n",
        "fig= px.scatter(df,x=\"average_work_hours\",y=\"performance_score\", title=\"Promedio de horas trabajdas y el puntaje de desempeño\")\n",
        "\n",
        "st.plotly_chart(fig)"
      ],
      "metadata": {
        "id": "OP0Lk6afG_7W",
        "colab": {
          "base_uri": "https://localhost:8080/"
        },
        "outputId": "9513d86f-e040-4ba6-933e-7819a1cfe14e"
      },
      "execution_count": null,
      "outputs": [
        {
          "output_type": "execute_result",
          "data": {
            "text/plain": [
              "DeltaGenerator()"
            ]
          },
          "metadata": {},
          "execution_count": 17
        }
      ]
    },
    {
      "cell_type": "code",
      "source": [
        "#•\tCódigo que permita desplegar una conclusión sobre el análisis mostrado en la aplicación web.\n",
        "\n",
        "st.header(\"Conclusión\")\n",
        "st.write(\"En conclusión, podemos observar un resultado satisfactorio para el usuario, de modo que pueda interactuar y visualizar los datos de acuerdoa los puntos que se pidieron realizar para este proyecto.\")"
      ],
      "metadata": {
        "id": "yOWfImmVHSZO"
      },
      "execution_count": null,
      "outputs": []
    },
    {
      "cell_type": "code",
      "source": [
        "!streamlit run /content/Retodashboard.py"
      ],
      "metadata": {
        "id": "NNqu4lgazZvn"
      },
      "execution_count": null,
      "outputs": []
    },
    {
      "cell_type": "code",
      "source": [
        "!streamlit run --browser.gatherUsageStats=false /content/Retodashboard.py"
      ],
      "metadata": {
        "id": "tnHYsAqQEyUk"
      },
      "execution_count": null,
      "outputs": []
    }
  ]
}