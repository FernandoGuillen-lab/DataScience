{
  "nbformat": 4,
  "nbformat_minor": 0,
  "metadata": {
    "colab": {
      "provenance": [],
      "authorship_tag": "ABX9TyM/rTYK+0fgVbBR8yHcJiVf",
      "include_colab_link": true
    },
    "kernelspec": {
      "name": "python3",
      "display_name": "Python 3"
    },
    "language_info": {
      "name": "python"
    }
  },
  "cells": [
    {
      "cell_type": "markdown",
      "metadata": {
        "id": "view-in-github",
        "colab_type": "text"
      },
      "source": [
        "<a href=\"https://colab.research.google.com/github/FernandoGuillen-lab/DataScience/blob/main/Reto_Covid_19_en_M%C3%A9xico.ipynb\" target=\"_parent\"><img src=\"https://colab.research.google.com/assets/colab-badge.svg\" alt=\"Open In Colab\"/></a>"
      ]
    },
    {
      "cell_type": "code",
      "execution_count": null,
      "metadata": {
        "id": "XkjMC5sKRy7g",
        "colab": {
          "base_uri": "https://localhost:8080/"
        },
        "outputId": "1fdd8182-bed0-4bd4-939b-b18d1cb65d8a"
      },
      "outputs": [
        {
          "output_type": "stream",
          "name": "stdout",
          "text": [
            "Te gustaria empezar el análisis del archivo casos confirmados?\n",
            "\n",
            "1=Si\n",
            "2=No\n",
            "\n",
            "\n",
            "Elige una opción: 1\n",
            "La edad promedio de los pacientes es: 45.32\n",
            "El género con más contagios registrados es: MASCULINO\n"
          ]
        }
      ],
      "source": [
        "\"\"\"\n",
        "Reto - Covid-19 en México\n",
        "El archivo \"casos_confirmados.csv\" esta guardado en el mismo lugar que este archivo,\n",
        "de este modo es que al momento de querer abrir el archivo, se pone el nombre de este\n",
        "en el codigo, y así es más facil.\n",
        "\n",
        "Hecho por: Fernando Guillén\n",
        "\n",
        "\"\"\"\n",
        "covid19=open(\"casos_confirmados.csv\",\"r\")\n",
        "\n",
        "\n",
        "def archivo(archivoc):\n",
        "    edades=[]\n",
        "    generos=[]\n",
        "\n",
        "    lin=covid19.readlines()\n",
        "    for l in lin[1:]:\n",
        "        datos=l.strip().split(\",\")\n",
        "\n",
        "        edad=int(datos[3])\n",
        "        genero=datos[2]\n",
        "\n",
        "        edades.append(edad)\n",
        "        generos.append(genero)\n",
        "\n",
        "    return edades, generos\n",
        "\n",
        "def edadpromedio(edades):\n",
        "    totedades=sum(edades)\n",
        "    cantpacientes=len(edades)\n",
        "    edadprom=totedades/cantpacientes\n",
        "    return edadprom\n",
        "\n",
        "def mascontagiados (generos):\n",
        "    hcontagiados=generos.count(\"MASCULINO\")\n",
        "    mcontagiados=generos.count(\"FEMENINO\")\n",
        "\n",
        "    if hcontagiados > mcontagiados:\n",
        "        return \"MASCULINO\"\n",
        "    elif hcontagiados < mcontagiados:\n",
        "        return \"FEMENINO\"\n",
        "    else:\n",
        "        return \"La cantidad de hombre y mujeres contagiados es igual\"\n",
        "\n",
        "\n",
        "\n",
        "respuesta=1\n",
        "\n",
        "while respuesta!=2:\n",
        "    print(\"\"\"Te gustaria empezar el análisis del archivo casos confirmados?\n",
        "\n",
        "1=Si\n",
        "2=No\n",
        "\n",
        "\"\"\")\n",
        "\n",
        "    respuesta=int(input(\"Elige una opción: \"))\n",
        "\n",
        "    if respuesta==1:\n",
        "        edades,generos=archivo(covid19)\n",
        "\n",
        "        edadprom=edadpromedio(edades)\n",
        "        mascontagiados=mascontagiados(generos)\n",
        "        print(f\"La edad promedio de los pacientes es: {edadprom:.2f}\")\n",
        "        print(f\"El género con más contagios registrados es: {mascontagiados}\")\n",
        "\n",
        "        break\n",
        "    elif respuesta==2:\n",
        "        print(\"Gracias por usar el programa \")\n",
        "    else:\n",
        "        print(\"Ingresa una opción válida\")\n",
        "\n",
        "\n",
        "\n",
        "\n",
        "\n",
        "\n",
        "\n",
        "\n",
        "\n",
        "\n",
        "\n",
        "covid19.close()"
      ]
    },
    {
      "cell_type": "code",
      "source": [],
      "metadata": {
        "id": "Fkg_jf3VArZ3"
      },
      "execution_count": null,
      "outputs": []
    },
    {
      "cell_type": "code",
      "source": [],
      "metadata": {
        "id": "33MIFs-CAr8a"
      },
      "execution_count": null,
      "outputs": []
    }
  ]
}