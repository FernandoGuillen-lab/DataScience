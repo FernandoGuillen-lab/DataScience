{
  "nbformat": 4,
  "nbformat_minor": 0,
  "metadata": {
    "colab": {
      "provenance": [],
      "mount_file_id": "1hGiaS6A4wTpQcovDSzgzeveGKJ8e7vBq",
      "authorship_tag": "ABX9TyORTeh0z/d/uuhqLfHse1ZC",
      "include_colab_link": true
    },
    "kernelspec": {
      "name": "python3",
      "display_name": "Python 3"
    },
    "language_info": {
      "name": "python"
    }
  },
  "cells": [
    {
      "cell_type": "markdown",
      "metadata": {
        "id": "view-in-github",
        "colab_type": "text"
      },
      "source": [
        "<a href=\"https://colab.research.google.com/github/FernandoGuillen-lab/DataScience/blob/main/machinelearning_con_PySpark.ipynb\" target=\"_parent\"><img src=\"https://colab.research.google.com/assets/colab-badge.svg\" alt=\"Open In Colab\"/></a>"
      ]
    },
    {
      "cell_type": "code",
      "source": [
        "!pip install pyspark"
      ],
      "metadata": {
        "colab": {
          "base_uri": "https://localhost:8080/"
        },
        "id": "HnLxxuRSwnhB",
        "outputId": "537c4328-fa88-4426-f699-91bb775e2061"
      },
      "execution_count": null,
      "outputs": [
        {
          "output_type": "stream",
          "name": "stdout",
          "text": [
            "Collecting pyspark\n",
            "  Downloading pyspark-3.5.1.tar.gz (317.0 MB)\n",
            "\u001b[2K     \u001b[90m━━━━━━━━━━━━━━━━━━━━━━━━━━━━━━━━━━━━━━━━\u001b[0m \u001b[32m317.0/317.0 MB\u001b[0m \u001b[31m2.5 MB/s\u001b[0m eta \u001b[36m0:00:00\u001b[0m\n",
            "\u001b[?25h  Preparing metadata (setup.py) ... \u001b[?25l\u001b[?25hdone\n",
            "Requirement already satisfied: py4j==0.10.9.7 in /usr/local/lib/python3.10/dist-packages (from pyspark) (0.10.9.7)\n",
            "Building wheels for collected packages: pyspark\n",
            "  Building wheel for pyspark (setup.py) ... \u001b[?25l\u001b[?25hdone\n",
            "  Created wheel for pyspark: filename=pyspark-3.5.1-py2.py3-none-any.whl size=317488491 sha256=86ad395afa157a79108544bf1bbf12dfbb29579759a966db1f05fb07ca9b114d\n",
            "  Stored in directory: /root/.cache/pip/wheels/80/1d/60/2c256ed38dddce2fdd93be545214a63e02fbd8d74fb0b7f3a6\n",
            "Successfully built pyspark\n",
            "Installing collected packages: pyspark\n",
            "Successfully installed pyspark-3.5.1\n"
          ]
        }
      ]
    },
    {
      "cell_type": "code",
      "source": [
        "!pip install heatmapz"
      ],
      "metadata": {
        "colab": {
          "base_uri": "https://localhost:8080/"
        },
        "id": "H6Uk4CaozvdA",
        "outputId": "685213f8-873e-4e9f-ca08-34a2d3e8fe14"
      },
      "execution_count": null,
      "outputs": [
        {
          "output_type": "stream",
          "name": "stdout",
          "text": [
            "Collecting heatmapz\n",
            "  Downloading heatmapz-0.0.4-py3-none-any.whl (5.8 kB)\n",
            "Requirement already satisfied: matplotlib>=3.0.3 in /usr/local/lib/python3.10/dist-packages (from heatmapz) (3.7.1)\n",
            "Requirement already satisfied: pandas in /usr/local/lib/python3.10/dist-packages (from heatmapz) (2.0.3)\n",
            "Requirement already satisfied: seaborn in /usr/local/lib/python3.10/dist-packages (from heatmapz) (0.13.1)\n",
            "Requirement already satisfied: contourpy>=1.0.1 in /usr/local/lib/python3.10/dist-packages (from matplotlib>=3.0.3->heatmapz) (1.2.0)\n",
            "Requirement already satisfied: cycler>=0.10 in /usr/local/lib/python3.10/dist-packages (from matplotlib>=3.0.3->heatmapz) (0.12.1)\n",
            "Requirement already satisfied: fonttools>=4.22.0 in /usr/local/lib/python3.10/dist-packages (from matplotlib>=3.0.3->heatmapz) (4.50.0)\n",
            "Requirement already satisfied: kiwisolver>=1.0.1 in /usr/local/lib/python3.10/dist-packages (from matplotlib>=3.0.3->heatmapz) (1.4.5)\n",
            "Requirement already satisfied: numpy>=1.20 in /usr/local/lib/python3.10/dist-packages (from matplotlib>=3.0.3->heatmapz) (1.25.2)\n",
            "Requirement already satisfied: packaging>=20.0 in /usr/local/lib/python3.10/dist-packages (from matplotlib>=3.0.3->heatmapz) (24.0)\n",
            "Requirement already satisfied: pillow>=6.2.0 in /usr/local/lib/python3.10/dist-packages (from matplotlib>=3.0.3->heatmapz) (9.4.0)\n",
            "Requirement already satisfied: pyparsing>=2.3.1 in /usr/local/lib/python3.10/dist-packages (from matplotlib>=3.0.3->heatmapz) (3.1.2)\n",
            "Requirement already satisfied: python-dateutil>=2.7 in /usr/local/lib/python3.10/dist-packages (from matplotlib>=3.0.3->heatmapz) (2.8.2)\n",
            "Requirement already satisfied: pytz>=2020.1 in /usr/local/lib/python3.10/dist-packages (from pandas->heatmapz) (2023.4)\n",
            "Requirement already satisfied: tzdata>=2022.1 in /usr/local/lib/python3.10/dist-packages (from pandas->heatmapz) (2024.1)\n",
            "Requirement already satisfied: six>=1.5 in /usr/local/lib/python3.10/dist-packages (from python-dateutil>=2.7->matplotlib>=3.0.3->heatmapz) (1.16.0)\n",
            "Installing collected packages: heatmapz\n",
            "Successfully installed heatmapz-0.0.4\n"
          ]
        }
      ]
    },
    {
      "cell_type": "code",
      "source": [
        "from pyspark.sql import SparkSession\n",
        "from pyspark import SparkContext, SparkConf, SQLContext"
      ],
      "metadata": {
        "id": "EshYHlDWpn2D"
      },
      "execution_count": null,
      "outputs": []
    },
    {
      "cell_type": "code",
      "source": [
        "sc = SparkContext.getOrCreate(SparkConf().setMaster(\"local[*]\"))\n",
        "spark = SparkSession.builder.getOrCreate()\n",
        "sqlContext = SQLContext(sc)\n",
        "###\n",
        "# to retrieve SparkContext version\n",
        "sc.version"
      ],
      "metadata": {
        "colab": {
          "base_uri": "https://localhost:8080/",
          "height": 70
        },
        "id": "Uav-hUmHvRpi",
        "outputId": "1b277752-c337-41b5-b1c7-27b689337317"
      },
      "execution_count": null,
      "outputs": [
        {
          "output_type": "stream",
          "name": "stderr",
          "text": [
            "/usr/local/lib/python3.10/dist-packages/pyspark/sql/context.py:113: FutureWarning: Deprecated in 3.0.0. Use SparkSession.builder.getOrCreate() instead.\n",
            "  warnings.warn(\n"
          ]
        },
        {
          "output_type": "execute_result",
          "data": {
            "text/plain": [
              "'3.5.1'"
            ],
            "application/vnd.google.colaboratory.intrinsic+json": {
              "type": "string"
            }
          },
          "metadata": {},
          "execution_count": 4
        }
      ]
    },
    {
      "cell_type": "code",
      "source": [
        "df= spark.read.csv(\"/content/drive/MyDrive/Colab Notebooks/0.txcac4jc1km0.j4ktihv2ofMonterreyPollutionData2.csv\", header=True, inferSchema=True)\n",
        "\n",
        "df.show()"
      ],
      "metadata": {
        "colab": {
          "base_uri": "https://localhost:8080/"
        },
        "id": "KNznh94jyYOM",
        "outputId": "e339b580-c9a8-474f-8b87-f42a4504719f"
      },
      "execution_count": null,
      "outputs": [
        {
          "output_type": "stream",
          "name": "stdout",
          "text": [
            "+---------+-----+---+-------+-------+----+----+----+----+----+---+----+-----+-----+-----+---+-----+----+---+---+\n",
            "|     Date|Month|Day|DayWeek|WeekDay|Hour|  CO|  NO| NO2| NOX| O3|PM10|PM2.5|  PRS|RAINF| RH|   SR|TOUT|WSR|WDV|\n",
            "+---------+-----+---+-------+-------+----+----+----+----+----+---+----+-----+-----+-----+---+-----+----+---+---+\n",
            "|01-ene-15|    1|  1|    jue|      5|   1|2.51|10.2|12.9|23.1| 10| 139|   80|725.4| 0.01| 96|  0.0|3.91|7.2|344|\n",
            "|01-ene-15|    1|  1|    jue|      5|   2|2.41| 9.2|11.6|20.8|  7|  42|   29|725.0| 0.02| 96|  0.0|3.81|6.3|341|\n",
            "|01-ene-15|    1|  1|    jue|      5|   3|2.39| 8.1|11.8|19.9|  7|  23|    9|724.4|  0.0| 96|  0.0|3.85|5.2|346|\n",
            "|01-ene-15|    1|  1|    jue|      5|   5|2.26| 5.3| 8.9|14.2|  7|  23|   14|724.0| 0.01| 96|  0.0|3.79|5.6|336|\n",
            "|01-ene-15|    1|  1|    jue|      5|   8|2.25| 7.2|10.2|17.4|  5|  15|    8|724.3|  0.0| 96|0.023|3.93|4.8|354|\n",
            "|01-ene-15|    1|  1|    jue|      5|   9|2.21| 5.8| 8.2|14.0|  7|  16|    6|724.3|  0.0| 96|0.052|4.13|4.2| 15|\n",
            "|01-ene-15|    1|  1|    jue|      5|  12|2.38|10.0|10.1|20.1| 10|  22|   17|722.6|  0.0| 96|0.127| 6.6|3.2| 29|\n",
            "|01-ene-15|    1|  1|    jue|      5|  13|2.51|11.5|12.3|23.8| 12|  32|   16|721.7|  0.0| 95| 0.15|6.89|4.8|  2|\n",
            "|01-ene-15|    1|  1|    jue|      5|  14|2.55|12.0|13.5|25.5| 14|  31|   19|721.0|  0.0| 94|0.175|7.43|4.6| 47|\n",
            "|01-ene-15|    1|  1|    jue|      5|  15|2.45|10.5|12.8|23.3| 11|  50|   35|720.8|  0.0| 93|0.091|7.15|4.0| 42|\n",
            "|01-ene-15|    1|  1|    jue|      5|  16|2.59|11.4|14.0|25.4| 11|  45|   15|720.8|  0.0| 93|0.091|7.04|2.9| 54|\n",
            "|01-ene-15|    1|  1|    jue|      5|  17|2.73|16.1|17.7|33.8| 10|  62|   36|720.6|  0.0| 93|0.014|6.82|4.4| 81|\n",
            "|01-ene-15|    1|  1|    jue|      5|  18|2.76|14.8|18.6|33.4|  8|  67|   37|721.0|  0.0| 93|0.008| 6.7|3.7| 58|\n",
            "|01-ene-15|    1|  1|    jue|      5|  19|2.81|21.2|18.0|39.2|  6|  59|   33|721.3|  0.0| 94|0.016| 6.5|5.6|101|\n",
            "|01-ene-15|    1|  1|    jue|      5|  20| 2.6|18.2|11.6|29.8|  5|  61|   10|721.5|  0.0| 94|0.004|5.79|8.2|118|\n",
            "|01-ene-15|    1|  1|    jue|      5|  22|2.35| 9.7|11.3|21.0|  5|  28|   14|721.6|  0.0| 95|  0.0|5.09|7.5|103|\n",
            "|01-ene-15|    1|  1|    jue|      5|  23|2.28| 6.3| 9.9|16.2|  6|  23|    6|721.5|  0.0| 95|  0.0|4.98|7.9|106|\n",
            "|02-ene-15|    1|  2|    vie|      6|   0|2.22| 5.0| 8.1|13.1|  6|  15|   12|721.7|  0.0| 96|  0.0|4.86|4.1| 83|\n",
            "|02-ene-15|    1|  2|    vie|      6|   1|2.22| 5.0| 9.4|14.4|  5|  15|   11|721.6| 0.01| 96|  0.0|4.88|3.7| 29|\n",
            "|02-ene-15|    1|  2|    vie|      6|   2|2.19| 3.8| 8.5|12.3|  6|  15|   12|721.3|  0.0| 96|  0.0|4.76|5.0| 20|\n",
            "+---------+-----+---+-------+-------+----+----+----+----+----+---+----+-----+-----+-----+---+-----+----+---+---+\n",
            "only showing top 20 rows\n",
            "\n"
          ]
        }
      ]
    },
    {
      "cell_type": "code",
      "source": [
        "df.count()"
      ],
      "metadata": {
        "colab": {
          "base_uri": "https://localhost:8080/"
        },
        "id": "GYlYhHKRASKI",
        "outputId": "76dddbb3-819a-45c2-b01f-926148b922e3"
      },
      "execution_count": null,
      "outputs": [
        {
          "output_type": "execute_result",
          "data": {
            "text/plain": [
              "3859"
            ]
          },
          "metadata": {},
          "execution_count": 6
        }
      ]
    },
    {
      "cell_type": "code",
      "source": [
        "variables= [\"Date\", \"Month\", \"Day\", \"Dayweek\", \"WeekDay\", \"Hour\"]\n",
        "\n",
        "df= df.drop(*variables)\n",
        "\n",
        "df.show()"
      ],
      "metadata": {
        "colab": {
          "base_uri": "https://localhost:8080/"
        },
        "id": "xLQlAy6NUkXi",
        "outputId": "b50019b8-ec5d-471c-f933-7c3fa7e4f9dc"
      },
      "execution_count": null,
      "outputs": [
        {
          "output_type": "stream",
          "name": "stdout",
          "text": [
            "+----+----+----+----+---+----+-----+-----+-----+---+-----+----+---+---+\n",
            "|  CO|  NO| NO2| NOX| O3|PM10|PM2.5|  PRS|RAINF| RH|   SR|TOUT|WSR|WDV|\n",
            "+----+----+----+----+---+----+-----+-----+-----+---+-----+----+---+---+\n",
            "|2.51|10.2|12.9|23.1| 10| 139|   80|725.4| 0.01| 96|  0.0|3.91|7.2|344|\n",
            "|2.41| 9.2|11.6|20.8|  7|  42|   29|725.0| 0.02| 96|  0.0|3.81|6.3|341|\n",
            "|2.39| 8.1|11.8|19.9|  7|  23|    9|724.4|  0.0| 96|  0.0|3.85|5.2|346|\n",
            "|2.26| 5.3| 8.9|14.2|  7|  23|   14|724.0| 0.01| 96|  0.0|3.79|5.6|336|\n",
            "|2.25| 7.2|10.2|17.4|  5|  15|    8|724.3|  0.0| 96|0.023|3.93|4.8|354|\n",
            "|2.21| 5.8| 8.2|14.0|  7|  16|    6|724.3|  0.0| 96|0.052|4.13|4.2| 15|\n",
            "|2.38|10.0|10.1|20.1| 10|  22|   17|722.6|  0.0| 96|0.127| 6.6|3.2| 29|\n",
            "|2.51|11.5|12.3|23.8| 12|  32|   16|721.7|  0.0| 95| 0.15|6.89|4.8|  2|\n",
            "|2.55|12.0|13.5|25.5| 14|  31|   19|721.0|  0.0| 94|0.175|7.43|4.6| 47|\n",
            "|2.45|10.5|12.8|23.3| 11|  50|   35|720.8|  0.0| 93|0.091|7.15|4.0| 42|\n",
            "|2.59|11.4|14.0|25.4| 11|  45|   15|720.8|  0.0| 93|0.091|7.04|2.9| 54|\n",
            "|2.73|16.1|17.7|33.8| 10|  62|   36|720.6|  0.0| 93|0.014|6.82|4.4| 81|\n",
            "|2.76|14.8|18.6|33.4|  8|  67|   37|721.0|  0.0| 93|0.008| 6.7|3.7| 58|\n",
            "|2.81|21.2|18.0|39.2|  6|  59|   33|721.3|  0.0| 94|0.016| 6.5|5.6|101|\n",
            "| 2.6|18.2|11.6|29.8|  5|  61|   10|721.5|  0.0| 94|0.004|5.79|8.2|118|\n",
            "|2.35| 9.7|11.3|21.0|  5|  28|   14|721.6|  0.0| 95|  0.0|5.09|7.5|103|\n",
            "|2.28| 6.3| 9.9|16.2|  6|  23|    6|721.5|  0.0| 95|  0.0|4.98|7.9|106|\n",
            "|2.22| 5.0| 8.1|13.1|  6|  15|   12|721.7|  0.0| 96|  0.0|4.86|4.1| 83|\n",
            "|2.22| 5.0| 9.4|14.4|  5|  15|   11|721.6| 0.01| 96|  0.0|4.88|3.7| 29|\n",
            "|2.19| 3.8| 8.5|12.3|  6|  15|   12|721.3|  0.0| 96|  0.0|4.76|5.0| 20|\n",
            "+----+----+----+----+---+----+-----+-----+-----+---+-----+----+---+---+\n",
            "only showing top 20 rows\n",
            "\n"
          ]
        }
      ]
    },
    {
      "cell_type": "code",
      "source": [
        "from pyspark.ml.stat import Correlation\n",
        "from pyspark.ml.feature import VectorAssembler\n",
        "import pandas as pd\n",
        "import numpy as np\n",
        "import seaborn as sns\n",
        "from heatmap import corrplot\n",
        "from matplotlib import pyplot as plt\n",
        "from pyspark.ml.regression import LinearRegression\n",
        "from pyspark.ml.evaluation import RegressionEvaluator"
      ],
      "metadata": {
        "id": "G0KToSs-ajnH"
      },
      "execution_count": null,
      "outputs": []
    },
    {
      "cell_type": "code",
      "source": [
        "df = df.withColumnRenamed(\"PM2.5\", \"PM25\")\n",
        "\n",
        "df"
      ],
      "metadata": {
        "colab": {
          "base_uri": "https://localhost:8080/"
        },
        "id": "EKAIEHrEdsc6",
        "outputId": "ef41daec-b126-41b0-f928-e89bec210c83"
      },
      "execution_count": null,
      "outputs": [
        {
          "output_type": "execute_result",
          "data": {
            "text/plain": [
              "DataFrame[CO: double, NO: double, NO2: double, NOX: double, O3: int, PM10: int, PM25: int, PRS: double, RAINF: double, RH: int, SR: double, TOUT: double, WSR: double, WDV: int]"
            ]
          },
          "metadata": {},
          "execution_count": 9
        }
      ]
    },
    {
      "cell_type": "code",
      "source": [
        "df.describe(\"CO\", \"NO\", \"NO2\", \"NOX\", \"O3\", \"PM10\", \"PM25\", \"PRS\", \"RAINF\", \"RH\", \"SR\", \"TOUT\", \"WSR\", \"WDV\").show()"
      ],
      "metadata": {
        "colab": {
          "base_uri": "https://localhost:8080/"
        },
        "id": "uQy1PkuxgZGb",
        "outputId": "9220c83a-c4f7-410a-e62c-cd87f2b10cf4"
      },
      "execution_count": null,
      "outputs": [
        {
          "output_type": "stream",
          "name": "stdout",
          "text": [
            "+-------+------------------+------------------+------------------+------------------+------------------+-----------------+------------------+------------------+--------------------+-----------------+-------------------+-----------------+------------------+------------------+\n",
            "|summary|                CO|                NO|               NO2|               NOX|                O3|             PM10|              PM25|               PRS|               RAINF|               RH|                 SR|             TOUT|               WSR|               WDV|\n",
            "+-------+------------------+------------------+------------------+------------------+------------------+-----------------+------------------+------------------+--------------------+-----------------+-------------------+-----------------+------------------+------------------+\n",
            "|  count|              3859|              3859|              3859|              3859|              3859|             3859|              3859|              3859|                3859|             3859|               3859|             3859|              3859|              3859|\n",
            "|   mean|1.8006219227779212|13.503653796320318|17.539284788381988|30.973257321216455|22.658719875615443|86.04949468774294|27.675822752008294|  719.629955947137|0.002650945840632...|71.04845814977973| 0.1825822752311473| 22.0189686447266| 7.331458927183208|127.52215599896346|\n",
            "| stddev|0.8720340991225567|26.856244699079294|13.301006799154928|36.090498039388464| 16.51056131885926|49.00887433131967|16.849434279135153|3.6959485297554657| 0.04244711534165332|18.33461472259281|0.26160202836729035|7.545535084646807|3.8282164629573447| 96.51530962028535|\n",
            "|    min|              0.29|               2.3|               0.4|               3.1|                 2|                8|                 5|             708.4|                 0.0|               12|                0.0|             3.03|               0.9|                 0|\n",
            "|    max|              8.56|             414.3|              99.2|             436.0|                92|              494|               123|             734.3|                 2.4|               96|              0.934|            38.52|              21.2|               360|\n",
            "+-------+------------------+------------------+------------------+------------------+------------------+-----------------+------------------+------------------+--------------------+-----------------+-------------------+-----------------+------------------+------------------+\n",
            "\n"
          ]
        }
      ]
    },
    {
      "cell_type": "code",
      "source": [
        "df.describe().toPandas().transpose()"
      ],
      "metadata": {
        "colab": {
          "base_uri": "https://localhost:8080/",
          "height": 519
        },
        "id": "DUE_95bAhpr7",
        "outputId": "da9206a3-4508-4ff6-cbe0-71f05c4fa370"
      },
      "execution_count": null,
      "outputs": [
        {
          "output_type": "execute_result",
          "data": {
            "text/plain": [
              "             0                      1                    2      3      4\n",
              "summary  count                   mean               stddev    min    max\n",
              "CO        3859     1.8006219227779212   0.8720340991225567   0.29   8.56\n",
              "NO        3859     13.503653796320318   26.856244699079294    2.3  414.3\n",
              "NO2       3859     17.539284788381988   13.301006799154928    0.4   99.2\n",
              "NOX       3859     30.973257321216455   36.090498039388464    3.1  436.0\n",
              "O3        3859     22.658719875615443    16.51056131885926      2     92\n",
              "PM10      3859      86.04949468774294    49.00887433131967      8    494\n",
              "PM25      3859     27.675822752008294   16.849434279135153      5    123\n",
              "PRS       3859       719.629955947137   3.6959485297554657  708.4  734.3\n",
              "RAINF     3859  0.0026509458406322856  0.04244711534165332    0.0    2.4\n",
              "RH        3859      71.04845814977973    18.33461472259281     12     96\n",
              "SR        3859     0.1825822752311473  0.26160202836729035    0.0  0.934\n",
              "TOUT      3859       22.0189686447266    7.545535084646807   3.03  38.52\n",
              "WSR       3859      7.331458927183208   3.8282164629573447    0.9   21.2\n",
              "WDV       3859     127.52215599896346    96.51530962028535      0    360"
            ],
            "text/html": [
              "\n",
              "  <div id=\"df-c37751f2-bfb0-4cc6-b7ea-eb5d36e2bdca\" class=\"colab-df-container\">\n",
              "    <div>\n",
              "<style scoped>\n",
              "    .dataframe tbody tr th:only-of-type {\n",
              "        vertical-align: middle;\n",
              "    }\n",
              "\n",
              "    .dataframe tbody tr th {\n",
              "        vertical-align: top;\n",
              "    }\n",
              "\n",
              "    .dataframe thead th {\n",
              "        text-align: right;\n",
              "    }\n",
              "</style>\n",
              "<table border=\"1\" class=\"dataframe\">\n",
              "  <thead>\n",
              "    <tr style=\"text-align: right;\">\n",
              "      <th></th>\n",
              "      <th>0</th>\n",
              "      <th>1</th>\n",
              "      <th>2</th>\n",
              "      <th>3</th>\n",
              "      <th>4</th>\n",
              "    </tr>\n",
              "  </thead>\n",
              "  <tbody>\n",
              "    <tr>\n",
              "      <th>summary</th>\n",
              "      <td>count</td>\n",
              "      <td>mean</td>\n",
              "      <td>stddev</td>\n",
              "      <td>min</td>\n",
              "      <td>max</td>\n",
              "    </tr>\n",
              "    <tr>\n",
              "      <th>CO</th>\n",
              "      <td>3859</td>\n",
              "      <td>1.8006219227779212</td>\n",
              "      <td>0.8720340991225567</td>\n",
              "      <td>0.29</td>\n",
              "      <td>8.56</td>\n",
              "    </tr>\n",
              "    <tr>\n",
              "      <th>NO</th>\n",
              "      <td>3859</td>\n",
              "      <td>13.503653796320318</td>\n",
              "      <td>26.856244699079294</td>\n",
              "      <td>2.3</td>\n",
              "      <td>414.3</td>\n",
              "    </tr>\n",
              "    <tr>\n",
              "      <th>NO2</th>\n",
              "      <td>3859</td>\n",
              "      <td>17.539284788381988</td>\n",
              "      <td>13.301006799154928</td>\n",
              "      <td>0.4</td>\n",
              "      <td>99.2</td>\n",
              "    </tr>\n",
              "    <tr>\n",
              "      <th>NOX</th>\n",
              "      <td>3859</td>\n",
              "      <td>30.973257321216455</td>\n",
              "      <td>36.090498039388464</td>\n",
              "      <td>3.1</td>\n",
              "      <td>436.0</td>\n",
              "    </tr>\n",
              "    <tr>\n",
              "      <th>O3</th>\n",
              "      <td>3859</td>\n",
              "      <td>22.658719875615443</td>\n",
              "      <td>16.51056131885926</td>\n",
              "      <td>2</td>\n",
              "      <td>92</td>\n",
              "    </tr>\n",
              "    <tr>\n",
              "      <th>PM10</th>\n",
              "      <td>3859</td>\n",
              "      <td>86.04949468774294</td>\n",
              "      <td>49.00887433131967</td>\n",
              "      <td>8</td>\n",
              "      <td>494</td>\n",
              "    </tr>\n",
              "    <tr>\n",
              "      <th>PM25</th>\n",
              "      <td>3859</td>\n",
              "      <td>27.675822752008294</td>\n",
              "      <td>16.849434279135153</td>\n",
              "      <td>5</td>\n",
              "      <td>123</td>\n",
              "    </tr>\n",
              "    <tr>\n",
              "      <th>PRS</th>\n",
              "      <td>3859</td>\n",
              "      <td>719.629955947137</td>\n",
              "      <td>3.6959485297554657</td>\n",
              "      <td>708.4</td>\n",
              "      <td>734.3</td>\n",
              "    </tr>\n",
              "    <tr>\n",
              "      <th>RAINF</th>\n",
              "      <td>3859</td>\n",
              "      <td>0.0026509458406322856</td>\n",
              "      <td>0.04244711534165332</td>\n",
              "      <td>0.0</td>\n",
              "      <td>2.4</td>\n",
              "    </tr>\n",
              "    <tr>\n",
              "      <th>RH</th>\n",
              "      <td>3859</td>\n",
              "      <td>71.04845814977973</td>\n",
              "      <td>18.33461472259281</td>\n",
              "      <td>12</td>\n",
              "      <td>96</td>\n",
              "    </tr>\n",
              "    <tr>\n",
              "      <th>SR</th>\n",
              "      <td>3859</td>\n",
              "      <td>0.1825822752311473</td>\n",
              "      <td>0.26160202836729035</td>\n",
              "      <td>0.0</td>\n",
              "      <td>0.934</td>\n",
              "    </tr>\n",
              "    <tr>\n",
              "      <th>TOUT</th>\n",
              "      <td>3859</td>\n",
              "      <td>22.0189686447266</td>\n",
              "      <td>7.545535084646807</td>\n",
              "      <td>3.03</td>\n",
              "      <td>38.52</td>\n",
              "    </tr>\n",
              "    <tr>\n",
              "      <th>WSR</th>\n",
              "      <td>3859</td>\n",
              "      <td>7.331458927183208</td>\n",
              "      <td>3.8282164629573447</td>\n",
              "      <td>0.9</td>\n",
              "      <td>21.2</td>\n",
              "    </tr>\n",
              "    <tr>\n",
              "      <th>WDV</th>\n",
              "      <td>3859</td>\n",
              "      <td>127.52215599896346</td>\n",
              "      <td>96.51530962028535</td>\n",
              "      <td>0</td>\n",
              "      <td>360</td>\n",
              "    </tr>\n",
              "  </tbody>\n",
              "</table>\n",
              "</div>\n",
              "    <div class=\"colab-df-buttons\">\n",
              "\n",
              "  <div class=\"colab-df-container\">\n",
              "    <button class=\"colab-df-convert\" onclick=\"convertToInteractive('df-c37751f2-bfb0-4cc6-b7ea-eb5d36e2bdca')\"\n",
              "            title=\"Convert this dataframe to an interactive table.\"\n",
              "            style=\"display:none;\">\n",
              "\n",
              "  <svg xmlns=\"http://www.w3.org/2000/svg\" height=\"24px\" viewBox=\"0 -960 960 960\">\n",
              "    <path d=\"M120-120v-720h720v720H120Zm60-500h600v-160H180v160Zm220 220h160v-160H400v160Zm0 220h160v-160H400v160ZM180-400h160v-160H180v160Zm440 0h160v-160H620v160ZM180-180h160v-160H180v160Zm440 0h160v-160H620v160Z\"/>\n",
              "  </svg>\n",
              "    </button>\n",
              "\n",
              "  <style>\n",
              "    .colab-df-container {\n",
              "      display:flex;\n",
              "      gap: 12px;\n",
              "    }\n",
              "\n",
              "    .colab-df-convert {\n",
              "      background-color: #E8F0FE;\n",
              "      border: none;\n",
              "      border-radius: 50%;\n",
              "      cursor: pointer;\n",
              "      display: none;\n",
              "      fill: #1967D2;\n",
              "      height: 32px;\n",
              "      padding: 0 0 0 0;\n",
              "      width: 32px;\n",
              "    }\n",
              "\n",
              "    .colab-df-convert:hover {\n",
              "      background-color: #E2EBFA;\n",
              "      box-shadow: 0px 1px 2px rgba(60, 64, 67, 0.3), 0px 1px 3px 1px rgba(60, 64, 67, 0.15);\n",
              "      fill: #174EA6;\n",
              "    }\n",
              "\n",
              "    .colab-df-buttons div {\n",
              "      margin-bottom: 4px;\n",
              "    }\n",
              "\n",
              "    [theme=dark] .colab-df-convert {\n",
              "      background-color: #3B4455;\n",
              "      fill: #D2E3FC;\n",
              "    }\n",
              "\n",
              "    [theme=dark] .colab-df-convert:hover {\n",
              "      background-color: #434B5C;\n",
              "      box-shadow: 0px 1px 3px 1px rgba(0, 0, 0, 0.15);\n",
              "      filter: drop-shadow(0px 1px 2px rgba(0, 0, 0, 0.3));\n",
              "      fill: #FFFFFF;\n",
              "    }\n",
              "  </style>\n",
              "\n",
              "    <script>\n",
              "      const buttonEl =\n",
              "        document.querySelector('#df-c37751f2-bfb0-4cc6-b7ea-eb5d36e2bdca button.colab-df-convert');\n",
              "      buttonEl.style.display =\n",
              "        google.colab.kernel.accessAllowed ? 'block' : 'none';\n",
              "\n",
              "      async function convertToInteractive(key) {\n",
              "        const element = document.querySelector('#df-c37751f2-bfb0-4cc6-b7ea-eb5d36e2bdca');\n",
              "        const dataTable =\n",
              "          await google.colab.kernel.invokeFunction('convertToInteractive',\n",
              "                                                    [key], {});\n",
              "        if (!dataTable) return;\n",
              "\n",
              "        const docLinkHtml = 'Like what you see? Visit the ' +\n",
              "          '<a target=\"_blank\" href=https://colab.research.google.com/notebooks/data_table.ipynb>data table notebook</a>'\n",
              "          + ' to learn more about interactive tables.';\n",
              "        element.innerHTML = '';\n",
              "        dataTable['output_type'] = 'display_data';\n",
              "        await google.colab.output.renderOutput(dataTable, element);\n",
              "        const docLink = document.createElement('div');\n",
              "        docLink.innerHTML = docLinkHtml;\n",
              "        element.appendChild(docLink);\n",
              "      }\n",
              "    </script>\n",
              "  </div>\n",
              "\n",
              "\n",
              "<div id=\"df-dd1c78f0-cd54-4fcb-98f8-6a3910c4e9da\">\n",
              "  <button class=\"colab-df-quickchart\" onclick=\"quickchart('df-dd1c78f0-cd54-4fcb-98f8-6a3910c4e9da')\"\n",
              "            title=\"Suggest charts\"\n",
              "            style=\"display:none;\">\n",
              "\n",
              "<svg xmlns=\"http://www.w3.org/2000/svg\" height=\"24px\"viewBox=\"0 0 24 24\"\n",
              "     width=\"24px\">\n",
              "    <g>\n",
              "        <path d=\"M19 3H5c-1.1 0-2 .9-2 2v14c0 1.1.9 2 2 2h14c1.1 0 2-.9 2-2V5c0-1.1-.9-2-2-2zM9 17H7v-7h2v7zm4 0h-2V7h2v10zm4 0h-2v-4h2v4z\"/>\n",
              "    </g>\n",
              "</svg>\n",
              "  </button>\n",
              "\n",
              "<style>\n",
              "  .colab-df-quickchart {\n",
              "      --bg-color: #E8F0FE;\n",
              "      --fill-color: #1967D2;\n",
              "      --hover-bg-color: #E2EBFA;\n",
              "      --hover-fill-color: #174EA6;\n",
              "      --disabled-fill-color: #AAA;\n",
              "      --disabled-bg-color: #DDD;\n",
              "  }\n",
              "\n",
              "  [theme=dark] .colab-df-quickchart {\n",
              "      --bg-color: #3B4455;\n",
              "      --fill-color: #D2E3FC;\n",
              "      --hover-bg-color: #434B5C;\n",
              "      --hover-fill-color: #FFFFFF;\n",
              "      --disabled-bg-color: #3B4455;\n",
              "      --disabled-fill-color: #666;\n",
              "  }\n",
              "\n",
              "  .colab-df-quickchart {\n",
              "    background-color: var(--bg-color);\n",
              "    border: none;\n",
              "    border-radius: 50%;\n",
              "    cursor: pointer;\n",
              "    display: none;\n",
              "    fill: var(--fill-color);\n",
              "    height: 32px;\n",
              "    padding: 0;\n",
              "    width: 32px;\n",
              "  }\n",
              "\n",
              "  .colab-df-quickchart:hover {\n",
              "    background-color: var(--hover-bg-color);\n",
              "    box-shadow: 0 1px 2px rgba(60, 64, 67, 0.3), 0 1px 3px 1px rgba(60, 64, 67, 0.15);\n",
              "    fill: var(--button-hover-fill-color);\n",
              "  }\n",
              "\n",
              "  .colab-df-quickchart-complete:disabled,\n",
              "  .colab-df-quickchart-complete:disabled:hover {\n",
              "    background-color: var(--disabled-bg-color);\n",
              "    fill: var(--disabled-fill-color);\n",
              "    box-shadow: none;\n",
              "  }\n",
              "\n",
              "  .colab-df-spinner {\n",
              "    border: 2px solid var(--fill-color);\n",
              "    border-color: transparent;\n",
              "    border-bottom-color: var(--fill-color);\n",
              "    animation:\n",
              "      spin 1s steps(1) infinite;\n",
              "  }\n",
              "\n",
              "  @keyframes spin {\n",
              "    0% {\n",
              "      border-color: transparent;\n",
              "      border-bottom-color: var(--fill-color);\n",
              "      border-left-color: var(--fill-color);\n",
              "    }\n",
              "    20% {\n",
              "      border-color: transparent;\n",
              "      border-left-color: var(--fill-color);\n",
              "      border-top-color: var(--fill-color);\n",
              "    }\n",
              "    30% {\n",
              "      border-color: transparent;\n",
              "      border-left-color: var(--fill-color);\n",
              "      border-top-color: var(--fill-color);\n",
              "      border-right-color: var(--fill-color);\n",
              "    }\n",
              "    40% {\n",
              "      border-color: transparent;\n",
              "      border-right-color: var(--fill-color);\n",
              "      border-top-color: var(--fill-color);\n",
              "    }\n",
              "    60% {\n",
              "      border-color: transparent;\n",
              "      border-right-color: var(--fill-color);\n",
              "    }\n",
              "    80% {\n",
              "      border-color: transparent;\n",
              "      border-right-color: var(--fill-color);\n",
              "      border-bottom-color: var(--fill-color);\n",
              "    }\n",
              "    90% {\n",
              "      border-color: transparent;\n",
              "      border-bottom-color: var(--fill-color);\n",
              "    }\n",
              "  }\n",
              "</style>\n",
              "\n",
              "  <script>\n",
              "    async function quickchart(key) {\n",
              "      const quickchartButtonEl =\n",
              "        document.querySelector('#' + key + ' button');\n",
              "      quickchartButtonEl.disabled = true;  // To prevent multiple clicks.\n",
              "      quickchartButtonEl.classList.add('colab-df-spinner');\n",
              "      try {\n",
              "        const charts = await google.colab.kernel.invokeFunction(\n",
              "            'suggestCharts', [key], {});\n",
              "      } catch (error) {\n",
              "        console.error('Error during call to suggestCharts:', error);\n",
              "      }\n",
              "      quickchartButtonEl.classList.remove('colab-df-spinner');\n",
              "      quickchartButtonEl.classList.add('colab-df-quickchart-complete');\n",
              "    }\n",
              "    (() => {\n",
              "      let quickchartButtonEl =\n",
              "        document.querySelector('#df-dd1c78f0-cd54-4fcb-98f8-6a3910c4e9da button');\n",
              "      quickchartButtonEl.style.display =\n",
              "        google.colab.kernel.accessAllowed ? 'block' : 'none';\n",
              "    })();\n",
              "  </script>\n",
              "</div>\n",
              "\n",
              "    </div>\n",
              "  </div>\n"
            ],
            "application/vnd.google.colaboratory.intrinsic+json": {
              "type": "dataframe",
              "summary": "{\n  \"name\": \"df\",\n  \"rows\": 15,\n  \"fields\": [\n    {\n      \"column\": 0,\n      \"properties\": {\n        \"dtype\": \"category\",\n        \"num_unique_values\": 2,\n        \"samples\": [\n          \"3859\",\n          \"count\"\n        ],\n        \"semantic_type\": \"\",\n        \"description\": \"\"\n      }\n    },\n    {\n      \"column\": 1,\n      \"properties\": {\n        \"dtype\": \"string\",\n        \"num_unique_values\": 15,\n        \"samples\": [\n          \"0.0026509458406322856\",\n          \"0.1825822752311473\"\n        ],\n        \"semantic_type\": \"\",\n        \"description\": \"\"\n      }\n    },\n    {\n      \"column\": 2,\n      \"properties\": {\n        \"dtype\": \"string\",\n        \"num_unique_values\": 15,\n        \"samples\": [\n          \"0.04244711534165332\",\n          \"0.26160202836729035\"\n        ],\n        \"semantic_type\": \"\",\n        \"description\": \"\"\n      }\n    },\n    {\n      \"column\": 3,\n      \"properties\": {\n        \"dtype\": \"string\",\n        \"num_unique_values\": 14,\n        \"samples\": [\n          \"0.0\",\n          \"3.03\"\n        ],\n        \"semantic_type\": \"\",\n        \"description\": \"\"\n      }\n    },\n    {\n      \"column\": 4,\n      \"properties\": {\n        \"dtype\": \"string\",\n        \"num_unique_values\": 15,\n        \"samples\": [\n          \"2.4\",\n          \"0.934\"\n        ],\n        \"semantic_type\": \"\",\n        \"description\": \"\"\n      }\n    }\n  ]\n}"
            }
          },
          "metadata": {},
          "execution_count": 11
        }
      ]
    },
    {
      "cell_type": "code",
      "source": [
        "df_drop= df.na.drop()\n",
        "df_columns=df_drop.columns"
      ],
      "metadata": {
        "id": "RwtmWDnPkjOy"
      },
      "execution_count": null,
      "outputs": []
    },
    {
      "cell_type": "code",
      "source": [
        "vector_col= \"corr_features\"\n",
        "\n",
        "assembler= VectorAssembler(inputCols= df_drop.columns, outputCol= vector_col)\n",
        "\n",
        "df_vector= assembler.transform(df_drop).select(vector_col)"
      ],
      "metadata": {
        "id": "-rfwNKF1kJjh"
      },
      "execution_count": null,
      "outputs": []
    },
    {
      "cell_type": "code",
      "source": [
        "r1= Correlation.corr(df_vector, vector_col)\n",
        "\n",
        "print(\"PearsonCorrMatrix\\n\", r1.collect()[0][\"pearson({})\".format(vector_col)].values)"
      ],
      "metadata": {
        "colab": {
          "base_uri": "https://localhost:8080/"
        },
        "id": "3zL1pUAaldGB",
        "outputId": "8dc46a27-0c09-4aff-f2c2-f408dc16a5f3"
      },
      "execution_count": null,
      "outputs": [
        {
          "output_type": "stream",
          "name": "stdout",
          "text": [
            "PearsonCorrMatrix\n",
            " [ 1.          0.5978396   0.67806613  0.69620186 -0.19644118  0.39680546\n",
            "  0.21761599  0.2516326   0.01022539  0.10444278 -0.16654048 -0.41700365\n",
            " -0.34159064  0.23231139  0.5978396   1.          0.56241782  0.95203112\n",
            " -0.27525146  0.48105826  0.23270828  0.17522197 -0.00918152  0.06803896\n",
            " -0.10329943 -0.29105489 -0.34398556  0.25988794  0.67806613  0.56241782\n",
            "  1.          0.78844922 -0.3029968   0.55036066  0.30202166  0.28501109\n",
            "  0.00958004  0.00909931 -0.20073603 -0.44380969 -0.48823082  0.26174609\n",
            "  0.69620186  0.95203112  0.78844922  1.         -0.31694119  0.56135302\n",
            "  0.28465352  0.23613043 -0.00322652  0.05464747 -0.1511936  -0.38163917\n",
            " -0.43656775  0.29035356 -0.19644118 -0.27525146 -0.3029968  -0.31694119\n",
            "  1.         -0.0468928  -0.00881133 -0.21973222 -0.03014244 -0.65558821\n",
            "  0.6919266   0.52715429  0.46625389 -0.19879824  0.39680546  0.48105826\n",
            "  0.55036066  0.56135302 -0.0468928   1.          0.51198907 -0.07659701\n",
            " -0.02553239 -0.10313337  0.05521986  0.05994128 -0.13963837  0.06329837\n",
            "  0.21761599  0.23270828  0.30202166  0.28465352 -0.00881133  0.51198907\n",
            "  1.         -0.17802928  0.03074583  0.03615375 -0.03730585  0.08370345\n",
            " -0.07117816 -0.03237315  0.2516326   0.17522197  0.28501109  0.23613043\n",
            " -0.21973222 -0.07659701 -0.17802928  1.          0.00509631  0.12850916\n",
            " -0.14052128 -0.66116281 -0.21603169  0.13427311  0.01022539 -0.00918152\n",
            "  0.00958004 -0.00322652 -0.03014244 -0.02553239  0.03074583  0.00509631\n",
            "  1.          0.06550696 -0.03597594 -0.02978912 -0.01519482  0.00324308\n",
            "  0.10444278  0.06803896  0.00909931  0.05464747 -0.65558821 -0.10313337\n",
            "  0.03615375  0.12850916  0.06550696  1.         -0.45995762 -0.55091045\n",
            " -0.41491721  0.06847708 -0.16654048 -0.10329943 -0.20073603 -0.1511936\n",
            "  0.6919266   0.05521986 -0.03730585 -0.14052128 -0.03597594 -0.45995762\n",
            "  1.          0.45622603  0.20218088 -0.10112286 -0.41700365 -0.29105489\n",
            " -0.44380969 -0.38163917  0.52715429  0.05994128  0.08370345 -0.66116281\n",
            " -0.02978912 -0.55091045  0.45622603  1.          0.46579615 -0.26496196\n",
            " -0.34159064 -0.34398556 -0.48823082 -0.43656775  0.46625389 -0.13963837\n",
            " -0.07117816 -0.21603169 -0.01519482 -0.41491721  0.20218088  0.46579615\n",
            "  1.         -0.14934754  0.23231139  0.25988794  0.26174609  0.29035356\n",
            " -0.19879824  0.06329837 -0.03237315  0.13427311  0.00324308  0.06847708\n",
            " -0.10112286 -0.26496196 -0.14934754  1.        ]\n"
          ]
        }
      ]
    },
    {
      "cell_type": "code",
      "source": [
        "#pearson_corr_arr= np.matrix(r1.collect()[0][\"pearson({})\".format(vector_col)].values).reshape(len(df.columns)-1, len(df.columns)-1)\n",
        "\n",
        "pearson_corr_arr= np.matrix(r1.collect()[0][\"pearson({})\".format(vector_col)].values).reshape(len(df.columns), len(df.columns))\n",
        "\n",
        "pearson_corr_df= pd.DataFrame(data= pearson_corr_arr, index=df_columns, columns= df_columns)\n",
        "\n",
        "pearson_corr_df"
      ],
      "metadata": {
        "colab": {
          "base_uri": "https://localhost:8080/",
          "height": 488
        },
        "id": "5iLF6CUImy2v",
        "outputId": "a17a9652-130e-447b-ef17-9632d2018ad6"
      },
      "execution_count": null,
      "outputs": [
        {
          "output_type": "execute_result",
          "data": {
            "text/plain": [
              "             CO        NO       NO2       NOX        O3      PM10      PM25  \\\n",
              "CO     1.000000  0.597840  0.678066  0.696202 -0.196441  0.396805  0.217616   \n",
              "NO     0.597840  1.000000  0.562418  0.952031 -0.275251  0.481058  0.232708   \n",
              "NO2    0.678066  0.562418  1.000000  0.788449 -0.302997  0.550361  0.302022   \n",
              "NOX    0.696202  0.952031  0.788449  1.000000 -0.316941  0.561353  0.284654   \n",
              "O3    -0.196441 -0.275251 -0.302997 -0.316941  1.000000 -0.046893 -0.008811   \n",
              "PM10   0.396805  0.481058  0.550361  0.561353 -0.046893  1.000000  0.511989   \n",
              "PM25   0.217616  0.232708  0.302022  0.284654 -0.008811  0.511989  1.000000   \n",
              "PRS    0.251633  0.175222  0.285011  0.236130 -0.219732 -0.076597 -0.178029   \n",
              "RAINF  0.010225 -0.009182  0.009580 -0.003227 -0.030142 -0.025532  0.030746   \n",
              "RH     0.104443  0.068039  0.009099  0.054647 -0.655588 -0.103133  0.036154   \n",
              "SR    -0.166540 -0.103299 -0.200736 -0.151194  0.691927  0.055220 -0.037306   \n",
              "TOUT  -0.417004 -0.291055 -0.443810 -0.381639  0.527154  0.059941  0.083703   \n",
              "WSR   -0.341591 -0.343986 -0.488231 -0.436568  0.466254 -0.139638 -0.071178   \n",
              "WDV    0.232311  0.259888  0.261746  0.290354 -0.198798  0.063298 -0.032373   \n",
              "\n",
              "            PRS     RAINF        RH        SR      TOUT       WSR       WDV  \n",
              "CO     0.251633  0.010225  0.104443 -0.166540 -0.417004 -0.341591  0.232311  \n",
              "NO     0.175222 -0.009182  0.068039 -0.103299 -0.291055 -0.343986  0.259888  \n",
              "NO2    0.285011  0.009580  0.009099 -0.200736 -0.443810 -0.488231  0.261746  \n",
              "NOX    0.236130 -0.003227  0.054647 -0.151194 -0.381639 -0.436568  0.290354  \n",
              "O3    -0.219732 -0.030142 -0.655588  0.691927  0.527154  0.466254 -0.198798  \n",
              "PM10  -0.076597 -0.025532 -0.103133  0.055220  0.059941 -0.139638  0.063298  \n",
              "PM25  -0.178029  0.030746  0.036154 -0.037306  0.083703 -0.071178 -0.032373  \n",
              "PRS    1.000000  0.005096  0.128509 -0.140521 -0.661163 -0.216032  0.134273  \n",
              "RAINF  0.005096  1.000000  0.065507 -0.035976 -0.029789 -0.015195  0.003243  \n",
              "RH     0.128509  0.065507  1.000000 -0.459958 -0.550910 -0.414917  0.068477  \n",
              "SR    -0.140521 -0.035976 -0.459958  1.000000  0.456226  0.202181 -0.101123  \n",
              "TOUT  -0.661163 -0.029789 -0.550910  0.456226  1.000000  0.465796 -0.264962  \n",
              "WSR   -0.216032 -0.015195 -0.414917  0.202181  0.465796  1.000000 -0.149348  \n",
              "WDV    0.134273  0.003243  0.068477 -0.101123 -0.264962 -0.149348  1.000000  "
            ],
            "text/html": [
              "\n",
              "  <div id=\"df-0525d140-9194-43c7-8739-8eaffecf2af8\" class=\"colab-df-container\">\n",
              "    <div>\n",
              "<style scoped>\n",
              "    .dataframe tbody tr th:only-of-type {\n",
              "        vertical-align: middle;\n",
              "    }\n",
              "\n",
              "    .dataframe tbody tr th {\n",
              "        vertical-align: top;\n",
              "    }\n",
              "\n",
              "    .dataframe thead th {\n",
              "        text-align: right;\n",
              "    }\n",
              "</style>\n",
              "<table border=\"1\" class=\"dataframe\">\n",
              "  <thead>\n",
              "    <tr style=\"text-align: right;\">\n",
              "      <th></th>\n",
              "      <th>CO</th>\n",
              "      <th>NO</th>\n",
              "      <th>NO2</th>\n",
              "      <th>NOX</th>\n",
              "      <th>O3</th>\n",
              "      <th>PM10</th>\n",
              "      <th>PM25</th>\n",
              "      <th>PRS</th>\n",
              "      <th>RAINF</th>\n",
              "      <th>RH</th>\n",
              "      <th>SR</th>\n",
              "      <th>TOUT</th>\n",
              "      <th>WSR</th>\n",
              "      <th>WDV</th>\n",
              "    </tr>\n",
              "  </thead>\n",
              "  <tbody>\n",
              "    <tr>\n",
              "      <th>CO</th>\n",
              "      <td>1.000000</td>\n",
              "      <td>0.597840</td>\n",
              "      <td>0.678066</td>\n",
              "      <td>0.696202</td>\n",
              "      <td>-0.196441</td>\n",
              "      <td>0.396805</td>\n",
              "      <td>0.217616</td>\n",
              "      <td>0.251633</td>\n",
              "      <td>0.010225</td>\n",
              "      <td>0.104443</td>\n",
              "      <td>-0.166540</td>\n",
              "      <td>-0.417004</td>\n",
              "      <td>-0.341591</td>\n",
              "      <td>0.232311</td>\n",
              "    </tr>\n",
              "    <tr>\n",
              "      <th>NO</th>\n",
              "      <td>0.597840</td>\n",
              "      <td>1.000000</td>\n",
              "      <td>0.562418</td>\n",
              "      <td>0.952031</td>\n",
              "      <td>-0.275251</td>\n",
              "      <td>0.481058</td>\n",
              "      <td>0.232708</td>\n",
              "      <td>0.175222</td>\n",
              "      <td>-0.009182</td>\n",
              "      <td>0.068039</td>\n",
              "      <td>-0.103299</td>\n",
              "      <td>-0.291055</td>\n",
              "      <td>-0.343986</td>\n",
              "      <td>0.259888</td>\n",
              "    </tr>\n",
              "    <tr>\n",
              "      <th>NO2</th>\n",
              "      <td>0.678066</td>\n",
              "      <td>0.562418</td>\n",
              "      <td>1.000000</td>\n",
              "      <td>0.788449</td>\n",
              "      <td>-0.302997</td>\n",
              "      <td>0.550361</td>\n",
              "      <td>0.302022</td>\n",
              "      <td>0.285011</td>\n",
              "      <td>0.009580</td>\n",
              "      <td>0.009099</td>\n",
              "      <td>-0.200736</td>\n",
              "      <td>-0.443810</td>\n",
              "      <td>-0.488231</td>\n",
              "      <td>0.261746</td>\n",
              "    </tr>\n",
              "    <tr>\n",
              "      <th>NOX</th>\n",
              "      <td>0.696202</td>\n",
              "      <td>0.952031</td>\n",
              "      <td>0.788449</td>\n",
              "      <td>1.000000</td>\n",
              "      <td>-0.316941</td>\n",
              "      <td>0.561353</td>\n",
              "      <td>0.284654</td>\n",
              "      <td>0.236130</td>\n",
              "      <td>-0.003227</td>\n",
              "      <td>0.054647</td>\n",
              "      <td>-0.151194</td>\n",
              "      <td>-0.381639</td>\n",
              "      <td>-0.436568</td>\n",
              "      <td>0.290354</td>\n",
              "    </tr>\n",
              "    <tr>\n",
              "      <th>O3</th>\n",
              "      <td>-0.196441</td>\n",
              "      <td>-0.275251</td>\n",
              "      <td>-0.302997</td>\n",
              "      <td>-0.316941</td>\n",
              "      <td>1.000000</td>\n",
              "      <td>-0.046893</td>\n",
              "      <td>-0.008811</td>\n",
              "      <td>-0.219732</td>\n",
              "      <td>-0.030142</td>\n",
              "      <td>-0.655588</td>\n",
              "      <td>0.691927</td>\n",
              "      <td>0.527154</td>\n",
              "      <td>0.466254</td>\n",
              "      <td>-0.198798</td>\n",
              "    </tr>\n",
              "    <tr>\n",
              "      <th>PM10</th>\n",
              "      <td>0.396805</td>\n",
              "      <td>0.481058</td>\n",
              "      <td>0.550361</td>\n",
              "      <td>0.561353</td>\n",
              "      <td>-0.046893</td>\n",
              "      <td>1.000000</td>\n",
              "      <td>0.511989</td>\n",
              "      <td>-0.076597</td>\n",
              "      <td>-0.025532</td>\n",
              "      <td>-0.103133</td>\n",
              "      <td>0.055220</td>\n",
              "      <td>0.059941</td>\n",
              "      <td>-0.139638</td>\n",
              "      <td>0.063298</td>\n",
              "    </tr>\n",
              "    <tr>\n",
              "      <th>PM25</th>\n",
              "      <td>0.217616</td>\n",
              "      <td>0.232708</td>\n",
              "      <td>0.302022</td>\n",
              "      <td>0.284654</td>\n",
              "      <td>-0.008811</td>\n",
              "      <td>0.511989</td>\n",
              "      <td>1.000000</td>\n",
              "      <td>-0.178029</td>\n",
              "      <td>0.030746</td>\n",
              "      <td>0.036154</td>\n",
              "      <td>-0.037306</td>\n",
              "      <td>0.083703</td>\n",
              "      <td>-0.071178</td>\n",
              "      <td>-0.032373</td>\n",
              "    </tr>\n",
              "    <tr>\n",
              "      <th>PRS</th>\n",
              "      <td>0.251633</td>\n",
              "      <td>0.175222</td>\n",
              "      <td>0.285011</td>\n",
              "      <td>0.236130</td>\n",
              "      <td>-0.219732</td>\n",
              "      <td>-0.076597</td>\n",
              "      <td>-0.178029</td>\n",
              "      <td>1.000000</td>\n",
              "      <td>0.005096</td>\n",
              "      <td>0.128509</td>\n",
              "      <td>-0.140521</td>\n",
              "      <td>-0.661163</td>\n",
              "      <td>-0.216032</td>\n",
              "      <td>0.134273</td>\n",
              "    </tr>\n",
              "    <tr>\n",
              "      <th>RAINF</th>\n",
              "      <td>0.010225</td>\n",
              "      <td>-0.009182</td>\n",
              "      <td>0.009580</td>\n",
              "      <td>-0.003227</td>\n",
              "      <td>-0.030142</td>\n",
              "      <td>-0.025532</td>\n",
              "      <td>0.030746</td>\n",
              "      <td>0.005096</td>\n",
              "      <td>1.000000</td>\n",
              "      <td>0.065507</td>\n",
              "      <td>-0.035976</td>\n",
              "      <td>-0.029789</td>\n",
              "      <td>-0.015195</td>\n",
              "      <td>0.003243</td>\n",
              "    </tr>\n",
              "    <tr>\n",
              "      <th>RH</th>\n",
              "      <td>0.104443</td>\n",
              "      <td>0.068039</td>\n",
              "      <td>0.009099</td>\n",
              "      <td>0.054647</td>\n",
              "      <td>-0.655588</td>\n",
              "      <td>-0.103133</td>\n",
              "      <td>0.036154</td>\n",
              "      <td>0.128509</td>\n",
              "      <td>0.065507</td>\n",
              "      <td>1.000000</td>\n",
              "      <td>-0.459958</td>\n",
              "      <td>-0.550910</td>\n",
              "      <td>-0.414917</td>\n",
              "      <td>0.068477</td>\n",
              "    </tr>\n",
              "    <tr>\n",
              "      <th>SR</th>\n",
              "      <td>-0.166540</td>\n",
              "      <td>-0.103299</td>\n",
              "      <td>-0.200736</td>\n",
              "      <td>-0.151194</td>\n",
              "      <td>0.691927</td>\n",
              "      <td>0.055220</td>\n",
              "      <td>-0.037306</td>\n",
              "      <td>-0.140521</td>\n",
              "      <td>-0.035976</td>\n",
              "      <td>-0.459958</td>\n",
              "      <td>1.000000</td>\n",
              "      <td>0.456226</td>\n",
              "      <td>0.202181</td>\n",
              "      <td>-0.101123</td>\n",
              "    </tr>\n",
              "    <tr>\n",
              "      <th>TOUT</th>\n",
              "      <td>-0.417004</td>\n",
              "      <td>-0.291055</td>\n",
              "      <td>-0.443810</td>\n",
              "      <td>-0.381639</td>\n",
              "      <td>0.527154</td>\n",
              "      <td>0.059941</td>\n",
              "      <td>0.083703</td>\n",
              "      <td>-0.661163</td>\n",
              "      <td>-0.029789</td>\n",
              "      <td>-0.550910</td>\n",
              "      <td>0.456226</td>\n",
              "      <td>1.000000</td>\n",
              "      <td>0.465796</td>\n",
              "      <td>-0.264962</td>\n",
              "    </tr>\n",
              "    <tr>\n",
              "      <th>WSR</th>\n",
              "      <td>-0.341591</td>\n",
              "      <td>-0.343986</td>\n",
              "      <td>-0.488231</td>\n",
              "      <td>-0.436568</td>\n",
              "      <td>0.466254</td>\n",
              "      <td>-0.139638</td>\n",
              "      <td>-0.071178</td>\n",
              "      <td>-0.216032</td>\n",
              "      <td>-0.015195</td>\n",
              "      <td>-0.414917</td>\n",
              "      <td>0.202181</td>\n",
              "      <td>0.465796</td>\n",
              "      <td>1.000000</td>\n",
              "      <td>-0.149348</td>\n",
              "    </tr>\n",
              "    <tr>\n",
              "      <th>WDV</th>\n",
              "      <td>0.232311</td>\n",
              "      <td>0.259888</td>\n",
              "      <td>0.261746</td>\n",
              "      <td>0.290354</td>\n",
              "      <td>-0.198798</td>\n",
              "      <td>0.063298</td>\n",
              "      <td>-0.032373</td>\n",
              "      <td>0.134273</td>\n",
              "      <td>0.003243</td>\n",
              "      <td>0.068477</td>\n",
              "      <td>-0.101123</td>\n",
              "      <td>-0.264962</td>\n",
              "      <td>-0.149348</td>\n",
              "      <td>1.000000</td>\n",
              "    </tr>\n",
              "  </tbody>\n",
              "</table>\n",
              "</div>\n",
              "    <div class=\"colab-df-buttons\">\n",
              "\n",
              "  <div class=\"colab-df-container\">\n",
              "    <button class=\"colab-df-convert\" onclick=\"convertToInteractive('df-0525d140-9194-43c7-8739-8eaffecf2af8')\"\n",
              "            title=\"Convert this dataframe to an interactive table.\"\n",
              "            style=\"display:none;\">\n",
              "\n",
              "  <svg xmlns=\"http://www.w3.org/2000/svg\" height=\"24px\" viewBox=\"0 -960 960 960\">\n",
              "    <path d=\"M120-120v-720h720v720H120Zm60-500h600v-160H180v160Zm220 220h160v-160H400v160Zm0 220h160v-160H400v160ZM180-400h160v-160H180v160Zm440 0h160v-160H620v160ZM180-180h160v-160H180v160Zm440 0h160v-160H620v160Z\"/>\n",
              "  </svg>\n",
              "    </button>\n",
              "\n",
              "  <style>\n",
              "    .colab-df-container {\n",
              "      display:flex;\n",
              "      gap: 12px;\n",
              "    }\n",
              "\n",
              "    .colab-df-convert {\n",
              "      background-color: #E8F0FE;\n",
              "      border: none;\n",
              "      border-radius: 50%;\n",
              "      cursor: pointer;\n",
              "      display: none;\n",
              "      fill: #1967D2;\n",
              "      height: 32px;\n",
              "      padding: 0 0 0 0;\n",
              "      width: 32px;\n",
              "    }\n",
              "\n",
              "    .colab-df-convert:hover {\n",
              "      background-color: #E2EBFA;\n",
              "      box-shadow: 0px 1px 2px rgba(60, 64, 67, 0.3), 0px 1px 3px 1px rgba(60, 64, 67, 0.15);\n",
              "      fill: #174EA6;\n",
              "    }\n",
              "\n",
              "    .colab-df-buttons div {\n",
              "      margin-bottom: 4px;\n",
              "    }\n",
              "\n",
              "    [theme=dark] .colab-df-convert {\n",
              "      background-color: #3B4455;\n",
              "      fill: #D2E3FC;\n",
              "    }\n",
              "\n",
              "    [theme=dark] .colab-df-convert:hover {\n",
              "      background-color: #434B5C;\n",
              "      box-shadow: 0px 1px 3px 1px rgba(0, 0, 0, 0.15);\n",
              "      filter: drop-shadow(0px 1px 2px rgba(0, 0, 0, 0.3));\n",
              "      fill: #FFFFFF;\n",
              "    }\n",
              "  </style>\n",
              "\n",
              "    <script>\n",
              "      const buttonEl =\n",
              "        document.querySelector('#df-0525d140-9194-43c7-8739-8eaffecf2af8 button.colab-df-convert');\n",
              "      buttonEl.style.display =\n",
              "        google.colab.kernel.accessAllowed ? 'block' : 'none';\n",
              "\n",
              "      async function convertToInteractive(key) {\n",
              "        const element = document.querySelector('#df-0525d140-9194-43c7-8739-8eaffecf2af8');\n",
              "        const dataTable =\n",
              "          await google.colab.kernel.invokeFunction('convertToInteractive',\n",
              "                                                    [key], {});\n",
              "        if (!dataTable) return;\n",
              "\n",
              "        const docLinkHtml = 'Like what you see? Visit the ' +\n",
              "          '<a target=\"_blank\" href=https://colab.research.google.com/notebooks/data_table.ipynb>data table notebook</a>'\n",
              "          + ' to learn more about interactive tables.';\n",
              "        element.innerHTML = '';\n",
              "        dataTable['output_type'] = 'display_data';\n",
              "        await google.colab.output.renderOutput(dataTable, element);\n",
              "        const docLink = document.createElement('div');\n",
              "        docLink.innerHTML = docLinkHtml;\n",
              "        element.appendChild(docLink);\n",
              "      }\n",
              "    </script>\n",
              "  </div>\n",
              "\n",
              "\n",
              "<div id=\"df-48cd4ff7-85d3-4e93-83b1-4a5c6fd7e4f0\">\n",
              "  <button class=\"colab-df-quickchart\" onclick=\"quickchart('df-48cd4ff7-85d3-4e93-83b1-4a5c6fd7e4f0')\"\n",
              "            title=\"Suggest charts\"\n",
              "            style=\"display:none;\">\n",
              "\n",
              "<svg xmlns=\"http://www.w3.org/2000/svg\" height=\"24px\"viewBox=\"0 0 24 24\"\n",
              "     width=\"24px\">\n",
              "    <g>\n",
              "        <path d=\"M19 3H5c-1.1 0-2 .9-2 2v14c0 1.1.9 2 2 2h14c1.1 0 2-.9 2-2V5c0-1.1-.9-2-2-2zM9 17H7v-7h2v7zm4 0h-2V7h2v10zm4 0h-2v-4h2v4z\"/>\n",
              "    </g>\n",
              "</svg>\n",
              "  </button>\n",
              "\n",
              "<style>\n",
              "  .colab-df-quickchart {\n",
              "      --bg-color: #E8F0FE;\n",
              "      --fill-color: #1967D2;\n",
              "      --hover-bg-color: #E2EBFA;\n",
              "      --hover-fill-color: #174EA6;\n",
              "      --disabled-fill-color: #AAA;\n",
              "      --disabled-bg-color: #DDD;\n",
              "  }\n",
              "\n",
              "  [theme=dark] .colab-df-quickchart {\n",
              "      --bg-color: #3B4455;\n",
              "      --fill-color: #D2E3FC;\n",
              "      --hover-bg-color: #434B5C;\n",
              "      --hover-fill-color: #FFFFFF;\n",
              "      --disabled-bg-color: #3B4455;\n",
              "      --disabled-fill-color: #666;\n",
              "  }\n",
              "\n",
              "  .colab-df-quickchart {\n",
              "    background-color: var(--bg-color);\n",
              "    border: none;\n",
              "    border-radius: 50%;\n",
              "    cursor: pointer;\n",
              "    display: none;\n",
              "    fill: var(--fill-color);\n",
              "    height: 32px;\n",
              "    padding: 0;\n",
              "    width: 32px;\n",
              "  }\n",
              "\n",
              "  .colab-df-quickchart:hover {\n",
              "    background-color: var(--hover-bg-color);\n",
              "    box-shadow: 0 1px 2px rgba(60, 64, 67, 0.3), 0 1px 3px 1px rgba(60, 64, 67, 0.15);\n",
              "    fill: var(--button-hover-fill-color);\n",
              "  }\n",
              "\n",
              "  .colab-df-quickchart-complete:disabled,\n",
              "  .colab-df-quickchart-complete:disabled:hover {\n",
              "    background-color: var(--disabled-bg-color);\n",
              "    fill: var(--disabled-fill-color);\n",
              "    box-shadow: none;\n",
              "  }\n",
              "\n",
              "  .colab-df-spinner {\n",
              "    border: 2px solid var(--fill-color);\n",
              "    border-color: transparent;\n",
              "    border-bottom-color: var(--fill-color);\n",
              "    animation:\n",
              "      spin 1s steps(1) infinite;\n",
              "  }\n",
              "\n",
              "  @keyframes spin {\n",
              "    0% {\n",
              "      border-color: transparent;\n",
              "      border-bottom-color: var(--fill-color);\n",
              "      border-left-color: var(--fill-color);\n",
              "    }\n",
              "    20% {\n",
              "      border-color: transparent;\n",
              "      border-left-color: var(--fill-color);\n",
              "      border-top-color: var(--fill-color);\n",
              "    }\n",
              "    30% {\n",
              "      border-color: transparent;\n",
              "      border-left-color: var(--fill-color);\n",
              "      border-top-color: var(--fill-color);\n",
              "      border-right-color: var(--fill-color);\n",
              "    }\n",
              "    40% {\n",
              "      border-color: transparent;\n",
              "      border-right-color: var(--fill-color);\n",
              "      border-top-color: var(--fill-color);\n",
              "    }\n",
              "    60% {\n",
              "      border-color: transparent;\n",
              "      border-right-color: var(--fill-color);\n",
              "    }\n",
              "    80% {\n",
              "      border-color: transparent;\n",
              "      border-right-color: var(--fill-color);\n",
              "      border-bottom-color: var(--fill-color);\n",
              "    }\n",
              "    90% {\n",
              "      border-color: transparent;\n",
              "      border-bottom-color: var(--fill-color);\n",
              "    }\n",
              "  }\n",
              "</style>\n",
              "\n",
              "  <script>\n",
              "    async function quickchart(key) {\n",
              "      const quickchartButtonEl =\n",
              "        document.querySelector('#' + key + ' button');\n",
              "      quickchartButtonEl.disabled = true;  // To prevent multiple clicks.\n",
              "      quickchartButtonEl.classList.add('colab-df-spinner');\n",
              "      try {\n",
              "        const charts = await google.colab.kernel.invokeFunction(\n",
              "            'suggestCharts', [key], {});\n",
              "      } catch (error) {\n",
              "        console.error('Error during call to suggestCharts:', error);\n",
              "      }\n",
              "      quickchartButtonEl.classList.remove('colab-df-spinner');\n",
              "      quickchartButtonEl.classList.add('colab-df-quickchart-complete');\n",
              "    }\n",
              "    (() => {\n",
              "      let quickchartButtonEl =\n",
              "        document.querySelector('#df-48cd4ff7-85d3-4e93-83b1-4a5c6fd7e4f0 button');\n",
              "      quickchartButtonEl.style.display =\n",
              "        google.colab.kernel.accessAllowed ? 'block' : 'none';\n",
              "    })();\n",
              "  </script>\n",
              "</div>\n",
              "\n",
              "  <div id=\"id_dbc86657-ba6c-4f38-8992-aa7661b75795\">\n",
              "    <style>\n",
              "      .colab-df-generate {\n",
              "        background-color: #E8F0FE;\n",
              "        border: none;\n",
              "        border-radius: 50%;\n",
              "        cursor: pointer;\n",
              "        display: none;\n",
              "        fill: #1967D2;\n",
              "        height: 32px;\n",
              "        padding: 0 0 0 0;\n",
              "        width: 32px;\n",
              "      }\n",
              "\n",
              "      .colab-df-generate:hover {\n",
              "        background-color: #E2EBFA;\n",
              "        box-shadow: 0px 1px 2px rgba(60, 64, 67, 0.3), 0px 1px 3px 1px rgba(60, 64, 67, 0.15);\n",
              "        fill: #174EA6;\n",
              "      }\n",
              "\n",
              "      [theme=dark] .colab-df-generate {\n",
              "        background-color: #3B4455;\n",
              "        fill: #D2E3FC;\n",
              "      }\n",
              "\n",
              "      [theme=dark] .colab-df-generate:hover {\n",
              "        background-color: #434B5C;\n",
              "        box-shadow: 0px 1px 3px 1px rgba(0, 0, 0, 0.15);\n",
              "        filter: drop-shadow(0px 1px 2px rgba(0, 0, 0, 0.3));\n",
              "        fill: #FFFFFF;\n",
              "      }\n",
              "    </style>\n",
              "    <button class=\"colab-df-generate\" onclick=\"generateWithVariable('pearson_corr_df')\"\n",
              "            title=\"Generate code using this dataframe.\"\n",
              "            style=\"display:none;\">\n",
              "\n",
              "  <svg xmlns=\"http://www.w3.org/2000/svg\" height=\"24px\"viewBox=\"0 0 24 24\"\n",
              "       width=\"24px\">\n",
              "    <path d=\"M7,19H8.4L18.45,9,17,7.55,7,17.6ZM5,21V16.75L18.45,3.32a2,2,0,0,1,2.83,0l1.4,1.43a1.91,1.91,0,0,1,.58,1.4,1.91,1.91,0,0,1-.58,1.4L9.25,21ZM18.45,9,17,7.55Zm-12,3A5.31,5.31,0,0,0,4.9,8.1,5.31,5.31,0,0,0,1,6.5,5.31,5.31,0,0,0,4.9,4.9,5.31,5.31,0,0,0,6.5,1,5.31,5.31,0,0,0,8.1,4.9,5.31,5.31,0,0,0,12,6.5,5.46,5.46,0,0,0,6.5,12Z\"/>\n",
              "  </svg>\n",
              "    </button>\n",
              "    <script>\n",
              "      (() => {\n",
              "      const buttonEl =\n",
              "        document.querySelector('#id_dbc86657-ba6c-4f38-8992-aa7661b75795 button.colab-df-generate');\n",
              "      buttonEl.style.display =\n",
              "        google.colab.kernel.accessAllowed ? 'block' : 'none';\n",
              "\n",
              "      buttonEl.onclick = () => {\n",
              "        google.colab.notebook.generateWithVariable('pearson_corr_df');\n",
              "      }\n",
              "      })();\n",
              "    </script>\n",
              "  </div>\n",
              "\n",
              "    </div>\n",
              "  </div>\n"
            ],
            "application/vnd.google.colaboratory.intrinsic+json": {
              "type": "dataframe",
              "variable_name": "pearson_corr_df",
              "summary": "{\n  \"name\": \"pearson_corr_df\",\n  \"rows\": 14,\n  \"fields\": [\n    {\n      \"column\": \"CO\",\n      \"properties\": {\n        \"dtype\": \"number\",\n        \"std\": 0.42258432574056554,\n        \"min\": -0.41700364925282835,\n        \"max\": 1.0,\n        \"num_unique_values\": 14,\n        \"samples\": [\n          0.10444278264820069,\n          -0.41700364925282835,\n          1.0\n        ],\n        \"semantic_type\": \"\",\n        \"description\": \"\"\n      }\n    },\n    {\n      \"column\": \"NO\",\n      \"properties\": {\n        \"dtype\": \"number\",\n        \"std\": 0.43652462831400074,\n        \"min\": -0.3439855582218897,\n        \"max\": 1.0,\n        \"num_unique_values\": 14,\n        \"samples\": [\n          0.06803896448797993,\n          -0.2910548869965911,\n          0.597839599755597\n        ],\n        \"semantic_type\": \"\",\n        \"description\": \"\"\n      }\n    },\n    {\n      \"column\": \"NO2\",\n      \"properties\": {\n        \"dtype\": \"number\",\n        \"std\": 0.46917587119477805,\n        \"min\": -0.4882308185716154,\n        \"max\": 1.0,\n        \"num_unique_values\": 14,\n        \"samples\": [\n          0.009099314840453713,\n          -0.4438096865855317,\n          0.6780661308406957\n        ],\n        \"semantic_type\": \"\",\n        \"description\": \"\"\n      }\n    },\n    {\n      \"column\": \"NOX\",\n      \"properties\": {\n        \"dtype\": \"number\",\n        \"std\": 0.4882423811941201,\n        \"min\": -0.43656775343591625,\n        \"max\": 1.0,\n        \"num_unique_values\": 14,\n        \"samples\": [\n          0.05464746861872261,\n          -0.3816391672400977,\n          0.696201859468836\n        ],\n        \"semantic_type\": \"\",\n        \"description\": \"\"\n      }\n    },\n    {\n      \"column\": \"O3\",\n      \"properties\": {\n        \"dtype\": \"number\",\n        \"std\": 0.4631002757791974,\n        \"min\": -0.6555882118457732,\n        \"max\": 1.0,\n        \"num_unique_values\": 14,\n        \"samples\": [\n          -0.6555882118457732,\n          0.5271542926097114,\n          -0.1964411811908437\n        ],\n        \"semantic_type\": \"\",\n        \"description\": \"\"\n      }\n    },\n    {\n      \"column\": \"PM10\",\n      \"properties\": {\n        \"dtype\": \"number\",\n        \"std\": 0.34487471394306246,\n        \"min\": -0.139638367872389,\n        \"max\": 1.0,\n        \"num_unique_values\": 14,\n        \"samples\": [\n          -0.10313336817644624,\n          0.05994127919050197,\n          0.39680545677385604\n        ],\n        \"semantic_type\": \"\",\n        \"description\": \"\"\n      }\n    },\n    {\n      \"column\": \"PM25\",\n      \"properties\": {\n        \"dtype\": \"number\",\n        \"std\": 0.3016079478585792,\n        \"min\": -0.17802927698852347,\n        \"max\": 1.0,\n        \"num_unique_values\": 14,\n        \"samples\": [\n          0.03615374912778998,\n          0.08370345396424952,\n          0.21761599437203494\n        ],\n        \"semantic_type\": \"\",\n        \"description\": \"\"\n      }\n    },\n    {\n      \"column\": \"PRS\",\n      \"properties\": {\n        \"dtype\": \"number\",\n        \"std\": 0.37391441839512796,\n        \"min\": -0.6611628057431738,\n        \"max\": 1.0,\n        \"num_unique_values\": 14,\n        \"samples\": [\n          0.12850916067499038,\n          -0.6611628057431738,\n          0.25163259721405784\n        ],\n        \"semantic_type\": \"\",\n        \"description\": \"\"\n      }\n    },\n    {\n      \"column\": \"RAINF\",\n      \"properties\": {\n        \"dtype\": \"number\",\n        \"std\": 0.26912762165934534,\n        \"min\": -0.03597594308781524,\n        \"max\": 1.0,\n        \"num_unique_values\": 14,\n        \"samples\": [\n          0.06550695949155019,\n          -0.02978912123943927,\n          0.01022538558784586\n        ],\n        \"semantic_type\": \"\",\n        \"description\": \"\"\n      }\n    },\n    {\n      \"column\": \"RH\",\n      \"properties\": {\n        \"dtype\": \"number\",\n        \"std\": 0.40600458314376875,\n        \"min\": -0.6555882118457732,\n        \"max\": 1.0,\n        \"num_unique_values\": 14,\n        \"samples\": [\n          1.0,\n          -0.5509104512638537,\n          0.10444278264820069\n        ],\n        \"semantic_type\": \"\",\n        \"description\": \"\"\n      }\n    },\n    {\n      \"column\": \"SR\",\n      \"properties\": {\n        \"dtype\": \"number\",\n        \"std\": 0.3926150281168952,\n        \"min\": -0.4599576161421132,\n        \"max\": 1.0,\n        \"num_unique_values\": 14,\n        \"samples\": [\n          -0.4599576161421132,\n          0.45622603017231744,\n          -0.16654047876653322\n        ],\n        \"semantic_type\": \"\",\n        \"description\": \"\"\n      }\n    },\n    {\n      \"column\": \"TOUT\",\n      \"properties\": {\n        \"dtype\": \"number\",\n        \"std\": 0.4892887870937007,\n        \"min\": -0.6611628057431738,\n        \"max\": 1.0,\n        \"num_unique_values\": 14,\n        \"samples\": [\n          -0.5509104512638537,\n          1.0,\n          -0.41700364925282835\n        ],\n        \"semantic_type\": \"\",\n        \"description\": \"\"\n      }\n    },\n    {\n      \"column\": \"WSR\",\n      \"properties\": {\n        \"dtype\": \"number\",\n        \"std\": 0.4286389807627875,\n        \"min\": -0.4882308185716154,\n        \"max\": 1.0,\n        \"num_unique_values\": 14,\n        \"samples\": [\n          -0.41491721384773383,\n          0.46579614979107403,\n          -0.3415906402341118\n        ],\n        \"semantic_type\": \"\",\n        \"description\": \"\"\n      }\n    },\n    {\n      \"column\": \"WDV\",\n      \"properties\": {\n        \"dtype\": \"number\",\n        \"std\": 0.3124317894424121,\n        \"min\": -0.264961962333431,\n        \"max\": 1.0,\n        \"num_unique_values\": 14,\n        \"samples\": [\n          0.06847707860565952,\n          -0.264961962333431,\n          0.23231138775806454\n        ],\n        \"semantic_type\": \"\",\n        \"description\": \"\"\n      }\n    }\n  ]\n}"
            }
          },
          "metadata": {},
          "execution_count": 15
        }
      ]
    },
    {
      "cell_type": "code",
      "source": [
        "sns.set(color_codes= True, font_scale= 1)\n",
        "\n",
        "plt.figure(figsize=(10,10))\n",
        "\n",
        "ax= sns.heatmap(pearson_corr_df, vmin= -1, vmax= 1, center= 0, cmap= sns.diverging_palette(20, 220, n=200), square= True)\n",
        "\n",
        "ax.set_xticklabels(ax.get_xticklabels(), rotation= 45, horizontalalignment= \"right\");"
      ],
      "metadata": {
        "colab": {
          "base_uri": "https://localhost:8080/",
          "height": 821
        },
        "id": "jDx6gffgo8L9",
        "outputId": "7b682944-d1d2-4e2e-a222-cfab55043e03"
      },
      "execution_count": null,
      "outputs": [
        {
          "output_type": "display_data",
          "data": {
            "text/plain": [
              "<Figure size 1000x1000 with 2 Axes>"
            ],
            "image/png": "[encoded data removed]"
          },
          "metadata": {}
        }
      ]
    },
    {
      "cell_type": "code",
      "source": [
        "plt.figure(figsize= (10,10))\n",
        "corrplot(pearson_corr_df, size_scale= 300);"
      ],
      "metadata": {
        "colab": {
          "base_uri": "https://localhost:8080/",
          "height": 862
        },
        "id": "Zl9K0uIl2koN",
        "outputId": "8eb3bebf-19cd-44ea-cf7b-9913d0c8a5e2"
      },
      "execution_count": null,
      "outputs": [
        {
          "output_type": "display_data",
          "data": {
            "text/plain": [
              "<Figure size 1000x1000 with 2 Axes>"
            ],
            "image/png": "[encoded data removed]"
          },
          "metadata": {}
        }
      ]
    },
    {
      "cell_type": "markdown",
      "source": [
        "Para O3 las variables que lo afectan son:\n",
        "\n",
        "*   SR con una correlación significativa de .6919, por lo que O3 aumenta con respecto a SR\n",
        "*   RH con una correlación significativa de -.6555, por lo que O3 disminuye con respecto a RH\n",
        "*   TOUT con una correlación significativa de .5271, por lo que O3 aumenta con respecto a TOUT\n",
        "\n",
        "Para PM2.5 las variables que lo afectan son las siguientes:\n",
        "\n",
        "*   PM10 con una correlación no tan significativa de .5119, por lo que PM2.5 aumenta con respecto a PM10\n",
        "\n"
      ],
      "metadata": {
        "id": "upIkewY13pW0"
      }
    },
    {
      "cell_type": "code",
      "source": [
        "fig, axes= plt.subplots(nrows= 2, ncols= 2, figsize= (15,15))\n",
        "\n",
        "axes[0,0].scatter(pearson_corr_df[\"SR\"], pearson_corr_df[\"O3\"])\n",
        "axes[0,0].set_xlabel(\"SR\")\n",
        "axes[0,0].set_ylabel(\"O3\")\n",
        "axes[0,0].set_title(\"Correlación de O3 vs SR\")\n",
        "\n",
        "axes[0,1].scatter(pearson_corr_df[\"RH\"], pearson_corr_df[\"O3\"])\n",
        "axes[0,1].set_xlabel(\"RH\")\n",
        "axes[0,1].set_ylabel(\"O3\")\n",
        "axes[0,1].set_title(\"Correlación de O3 vs RH\")\n",
        "\n",
        "axes[1,0].scatter(pearson_corr_df[\"TOUT\"], pearson_corr_df[\"O3\"])\n",
        "axes[1,0].set_xlabel(\"TOUT\")\n",
        "axes[1,0].set_ylabel(\"O3\")\n",
        "axes[1,0].set_title(\"Correlación de O3 vs TOUT\")\n",
        "\n",
        "axes[1,1].scatter(pearson_corr_df[\"PM10\"], pearson_corr_df[\"PM25\"])\n",
        "axes[1,1].set_xlabel(\"PM10\")\n",
        "axes[1,1].set_ylabel(\"PM2.5\")\n",
        "axes[1,1].set_title(\"Correlación de PM2.5 vs PM10\")"
      ],
      "metadata": {
        "colab": {
          "base_uri": "https://localhost:8080/",
          "height": 1000
        },
        "id": "4TwSIBOWBtrZ",
        "outputId": "1c761fa9-96b9-4eee-9065-db81d02f3b51"
      },
      "execution_count": null,
      "outputs": [
        {
          "output_type": "execute_result",
          "data": {
            "text/plain": [
              "Text(0.5, 1.0, 'Correlación de PM2.5 vs PM10')"
            ]
          },
          "metadata": {},
          "execution_count": 18
        },
        {
          "output_type": "display_data",
          "data": {
            "text/plain": [
              "<Figure size 1500x1500 with 4 Axes>"
            ],
            "image/png": "[encoded data removed]"
          },
          "metadata": {}
        }
      ]
    },
    {
      "cell_type": "code",
      "source": [
        "assem= VectorAssembler(inputCols= [\"CO\", \"NO\", \"NO2\", \"NOX\", \"PM10\", \"PRS\", \"RAINF\", \"RH\", \"SR\", \"TOUT\", \"WSR\", \"WDV\"], outputCol= \"Attributes\")\n",
        "\n",
        "output= assem.transform(df_drop)\n",
        "\n",
        "finalized_data= output.select(\"Attributes\", \"O3\" )\n",
        "\n",
        "train_data, test_data= finalized_data.randomSplit([.8, .2])"
      ],
      "metadata": {
        "id": "Zw_iRY5zFriB"
      },
      "execution_count": null,
      "outputs": []
    },
    {
      "cell_type": "code",
      "source": [
        "regressor_O3= LinearRegression(featuresCol= \"Attributes\", labelCol= \"O3\" )\n",
        "\n",
        "regressor_O3= regressor_O3.fit(train_data)\n",
        "\n",
        "print(\"El coeficiente del modelo es: %a\", regressor_O3.coefficients)\n",
        "print(\"El intercptor  del modelo es: %a\", regressor_O3.intercept)\n",
        "\n"
      ],
      "metadata": {
        "colab": {
          "base_uri": "https://localhost:8080/"
        },
        "id": "9RZ2NXgiVDx4",
        "outputId": "4e0da6e7-3496-4708-f5ef-d487e361418d"
      },
      "execution_count": null,
      "outputs": [
        {
          "output_type": "stream",
          "name": "stdout",
          "text": [
            "El coeficiente del modelo es: %a [2.940614672913738,-8.572950537084118,-8.740061210085026,8.482152669487274,0.002913814028210489,-0.571648795748929,4.175254471787382,-0.42176145899691064,29.061363145482684,-0.3372553083042073,0.5071861645426382,-0.01256285645689992]\n",
            "El intercptor  del modelo es: %a 464.78177292636593\n"
          ]
        }
      ]
    },
    {
      "cell_type": "code",
      "source": [
        "Pred_lr_O3= regressor_O3.evaluate(test_data)\n"
      ],
      "metadata": {
        "id": "NIoQ-_RibmrZ"
      },
      "execution_count": null,
      "outputs": []
    },
    {
      "cell_type": "code",
      "source": [
        "Pred_lr_O3.predictions.show(10)"
      ],
      "metadata": {
        "colab": {
          "base_uri": "https://localhost:8080/"
        },
        "id": "SXRV6BqXb_Ko",
        "outputId": "93078d47-39af-43a8-dea7-3a9cbb421e18"
      },
      "execution_count": null,
      "outputs": [
        {
          "output_type": "stream",
          "name": "stdout",
          "text": [
            "+--------------------+---+------------------+\n",
            "|          Attributes| O3|        prediction|\n",
            "+--------------------+---+------------------+\n",
            "|[0.29,2.5,3.0,5.3...| 16|13.563021770397427|\n",
            "|[0.3,2.8,6.4,8.9,...| 10| 11.79491084774611|\n",
            "|[0.33,3.2,5.2,8.1...| 14|21.225389491534997|\n",
            "|[0.33,4.0,6.0,9.7...| 11|10.679315926023264|\n",
            "|[0.34,2.9,4.9,7.5...| 12|11.230297136093156|\n",
            "|[0.34,3.0,5.1,7.9...| 12|13.927486916352962|\n",
            "|[0.34,3.0,5.8,8.6...| 11|11.389079170892046|\n",
            "|[0.35,3.0,6.1,8.9...| 11|11.498294470896099|\n",
            "|[0.35,3.1,5.5,8.4...| 12|12.374272500177199|\n",
            "|[0.35,3.9,6.5,10....| 10|11.078026766496123|\n",
            "+--------------------+---+------------------+\n",
            "only showing top 10 rows\n",
            "\n"
          ]
        }
      ]
    },
    {
      "cell_type": "code",
      "source": [
        "assem= VectorAssembler(inputCols= [\"CO\", \"NO\", \"NO2\", \"NOX\", \"PM10\", \"PRS\", \"RAINF\", \"RH\", \"SR\", \"TOUT\", \"WSR\", \"WDV\"], outputCol= \"Attributes\")\n",
        "\n",
        "output= assem.transform(df_drop)\n",
        "\n",
        "finalized_data= output.select(\"Attributes\", \"PM25\" )\n",
        "\n",
        "train_data, test_data= finalized_data.randomSplit([.8, .2])"
      ],
      "metadata": {
        "id": "kfkrtHQMqmx4"
      },
      "execution_count": null,
      "outputs": []
    },
    {
      "cell_type": "code",
      "source": [
        "regressor_PM25= LinearRegression(featuresCol= \"Attributes\", labelCol= \"PM25\" )\n",
        "\n",
        "regressor_PM25= regressor_PM25.fit(train_data)\n",
        "\n",
        "print(\"El coeficiente del modelo es: %a\", regressor_PM25.coefficients)\n",
        "print(\"El intercptor  del modelo es: %a\", regressor_PM25.intercept)"
      ],
      "metadata": {
        "colab": {
          "base_uri": "https://localhost:8080/"
        },
        "id": "M0t03Z7rqrtx",
        "outputId": "0b4243b5-777b-4265-d406-09f701f03068"
      },
      "execution_count": null,
      "outputs": [
        {
          "output_type": "stream",
          "name": "stdout",
          "text": [
            "El coeficiente del modelo es: %a [1.1078239271174626,14.825260766918214,15.140546223280406,-14.836766689189698,0.14150881513299984,-0.5422483631350453,57.465597141596334,0.18237221657028205,-0.8121786795364907,0.24404149051744933,0.43311782183116104,-0.010906894986457144]\n",
            "El intercptor  del modelo es: %a 377.54886192658614\n"
          ]
        }
      ]
    },
    {
      "cell_type": "code",
      "source": [
        "Pred_lr_PM25= regressor_PM25.evaluate(test_data)"
      ],
      "metadata": {
        "id": "nah4KMuxqryn"
      },
      "execution_count": null,
      "outputs": []
    },
    {
      "cell_type": "code",
      "source": [
        "Pred_lr_PM25.predictions.show(10)"
      ],
      "metadata": {
        "colab": {
          "base_uri": "https://localhost:8080/"
        },
        "id": "DUsCuPb6cPU1",
        "outputId": "bc5d70f1-1655-4eb6-aebc-b13af95000ef"
      },
      "execution_count": null,
      "outputs": [
        {
          "output_type": "stream",
          "name": "stdout",
          "text": [
            "+--------------------+----+------------------+\n",
            "|          Attributes|PM25|        prediction|\n",
            "+--------------------+----+------------------+\n",
            "|[0.29,2.5,3.0,5.3...|  16|30.999069307137177|\n",
            "|[0.33,3.2,5.2,8.1...|  20|  35.3889342901914|\n",
            "|[0.34,3.0,5.8,8.6...|  18| 20.21764443828539|\n",
            "|[0.35,2.5,4.4,6.6...|  24|30.084009327693707|\n",
            "|[0.4,3.2,5.6,8.7,...|  22|25.202146216597782|\n",
            "|[0.45,3.5,4.8,8.1...|  39| 25.51134335445397|\n",
            "|[0.45,5.9,9.2,15....|  20|20.240549189212516|\n",
            "|[0.46,3.3,5.0,8.1...|  46| 35.35492818812742|\n",
            "|[0.46,3.4,8.3,11....|  51| 23.83160689415422|\n",
            "|[0.46,5.1,6.4,11....|  36|27.414529570932814|\n",
            "+--------------------+----+------------------+\n",
            "only showing top 10 rows\n",
            "\n"
          ]
        }
      ]
    },
    {
      "cell_type": "code",
      "source": [
        "print(\"Evaluacion de la regresión de O3\")\n",
        "print(\"Estimate  |  Std. Error  |  t Values  | P-value\")\n",
        "\n",
        "coef= np.append(list(regressor_O3.coefficients), regressor_O3.intercept)\n",
        "\n",
        "Summary= regressor_O3.summary\n",
        "\n",
        "for i in range (len(Summary.pValues)):\n",
        "  print(\"{:10.6f}\".format(coef[i]),\\\n",
        "  \"{:10.6f}\".format(Summary.coefficientStandardErrors[i]),\\\n",
        "  \"{:8.3f}\".format(Summary.tValues[i]),\\\n",
        "  \"{:10.6f}\".format(Summary.pValues[i]))\n",
        "\n",
        "print(\"Mean squared error: %.6f\"\\\n",
        "      %Summary.meanSquaredError,\",\\\n",
        "      RMSE:%.6f\"\\\n",
        "      %Summary.rootMeanSquaredError)\n",
        "\n",
        "print(\"Multiple R-squared:%f\"%Summary.r2,\",\\\n",
        "Total iterations:%i\"%Summary.totalIterations)\n",
        "\n"
      ],
      "metadata": {
        "id": "pc_v_uMhslzs",
        "colab": {
          "base_uri": "https://localhost:8080/"
        },
        "outputId": "1aa69516-84f7-40b7-f9c0-1b28eee20448"
      },
      "execution_count": null,
      "outputs": [
        {
          "output_type": "stream",
          "name": "stdout",
          "text": [
            "Evaluacion de la regresión de O3\n",
            "Estimate  |  Std. Error  |  t Values  | P-value\n",
            "  2.940615   0.278730   10.550   0.000000\n",
            " -8.572951   2.130054   -4.025   0.000058\n",
            " -8.740061   2.136548   -4.091   0.000044\n",
            "  8.482153   2.131748    3.979   0.000071\n",
            "  0.002914   0.004530    0.643   0.520144\n",
            " -0.571649   0.064787   -8.824   0.000000\n",
            "  4.175254   3.432485    1.216   0.223929\n",
            " -0.421761   0.013319  -31.667   0.000000\n",
            " 29.061363   0.755171   38.483   0.000000\n",
            " -0.337255   0.048785   -6.913   0.000000\n",
            "  0.507186   0.055824    9.085   0.000000\n",
            " -0.012563   0.001785   -7.037   0.000000\n",
            "464.781773  47.616414    9.761   0.000000\n",
            "Mean squared error: 75.621006 ,      RMSE:8.696034\n",
            "Multiple R-squared:0.711870 ,Total iterations:0\n"
          ]
        }
      ]
    },
    {
      "cell_type": "code",
      "source": [
        "print(\"Evaluacion de la regresión de PM2.5\")\n",
        "print(\"Estimate  |  Std. Error  |  t Values  | P-value\")\n",
        "\n",
        "coef= np.append(list(regressor_PM25.coefficients), regressor_PM25.intercept)\n",
        "\n",
        "Summary= regressor_PM25.summary\n",
        "\n",
        "for i in range (len(Summary.pValues)):\n",
        "  print(\"{:10.6f}\".format(coef[i]),\\\n",
        "  \"{:10.6f}\".format(Summary.coefficientStandardErrors[i]),\\\n",
        "  \"{:8.3f}\".format(Summary.tValues[i]),\\\n",
        "  \"{:10.6f}\".format(Summary.pValues[i]))\n",
        "\n",
        "print(\"Mean squared error: %.6f\"\\\n",
        "      %Summary.meanSquaredError,\",\\\n",
        "      RMSE:%.6f\"\\\n",
        "      %Summary.rootMeanSquaredError)\n",
        "\n",
        "print(\"Multiple R-squared:%f\"%Summary.r2,\",\\\n",
        "Total iterations:%i\"%Summary.totalIterations)"
      ],
      "metadata": {
        "colab": {
          "base_uri": "https://localhost:8080/"
        },
        "id": "oStfTCy4ivuZ",
        "outputId": "636cf8f4-04db-4ab6-d5b2-9c099a82d420"
      },
      "execution_count": null,
      "outputs": [
        {
          "output_type": "stream",
          "name": "stdout",
          "text": [
            "Evaluacion de la regresión de PM2.5\n",
            "Estimate  |  Std. Error  |  t Values  | P-value\n",
            "  1.107824   0.435765    2.542   0.011062\n",
            " 14.825261   3.383874    4.381   0.000012\n",
            " 15.140546   3.394380    4.460   0.000008\n",
            "-14.836767   3.386553   -4.381   0.000012\n",
            "  0.141509   0.007177   19.717   0.000000\n",
            " -0.542248   0.101560   -5.339   0.000000\n",
            " 57.465597  16.950572    3.390   0.000707\n",
            "  0.182372   0.021131    8.630   0.000000\n",
            " -0.812179   1.175079   -0.691   0.489511\n",
            "  0.244041   0.076401    3.194   0.001416\n",
            "  0.433118   0.087842    4.931   0.000001\n",
            " -0.010907   0.002754   -3.961   0.000076\n",
            "377.548862  74.630542    5.059   0.000000\n",
            "Mean squared error: 192.429874 ,      RMSE:13.871910\n",
            "Multiple R-squared:0.323677 ,Total iterations:0\n"
          ]
        }
      ]
    },
    {
      "cell_type": "code",
      "source": [
        "eval_lr= RegressionEvaluator(labelCol= \"O3\", predictionCol= \"prediction\", metricName= \"rmse\")\n",
        "\n",
        "print(\"Linear reggresion model O3\\n\")\n",
        "\n",
        "rmse= eval_lr.evaluate(Pred_lr_O3.predictions)\n",
        "print(\"RMSE:%.3f\"%rmse)\n",
        "\n",
        "mse= eval_lr.evaluate(Pred_lr_O3.predictions,{eval_lr.metricName: \"mse\"})\n",
        "print(\"MSE:%.3f\"%mse)\n",
        "\n",
        "mae= eval_lr.evaluate(Pred_lr_O3.predictions,{eval_lr.metricName: \"mse\"})\n",
        "print(\"MAE:%.3f\"%mae)\n",
        "\n",
        "r2= eval_lr.evaluate(Pred_lr_O3.predictions,{eval_lr.metricName: \"r2\"})\n",
        "print(\"R2:%.3f\"%r2)"
      ],
      "metadata": {
        "colab": {
          "base_uri": "https://localhost:8080/"
        },
        "id": "vFXFq_vDjVDA",
        "outputId": "53396284-ad20-452d-efe4-973d9dcb3426"
      },
      "execution_count": null,
      "outputs": [
        {
          "output_type": "stream",
          "name": "stdout",
          "text": [
            "Linear reggresion model O3\n",
            "\n",
            "RMSE:9.170\n",
            "MSE:84.084\n",
            "MAE:84.084\n",
            "R2:0.729\n"
          ]
        }
      ]
    },
    {
      "cell_type": "code",
      "source": [
        "eval_lr= RegressionEvaluator(labelCol= \"PM25\", predictionCol= \"prediction\", metricName= \"rmse\")\n",
        "\n",
        "print(\"Linear reggresion model PM2.5\\n\")\n",
        "\n",
        "rmse= eval_lr.evaluate(Pred_lr_PM25.predictions)\n",
        "print(\"RMSE:%.3f\"%rmse)\n",
        "\n",
        "mse= eval_lr.evaluate(Pred_lr_PM25.predictions,{eval_lr.metricName: \"mse\"})\n",
        "print(\"MSE:%.3f\"%mse)\n",
        "\n",
        "mae= eval_lr.evaluate(Pred_lr_PM25.predictions,{eval_lr.metricName: \"mse\"})\n",
        "print(\"MAE:%.3f\"%mae)\n",
        "\n",
        "r2= eval_lr.evaluate(Pred_lr_PM25.predictions,{eval_lr.metricName: \"r2\"})\n",
        "print(\"R2:%.3f\"%r2)"
      ],
      "metadata": {
        "colab": {
          "base_uri": "https://localhost:8080/"
        },
        "id": "h0FrrQrMm6DB",
        "outputId": "b8235807-8273-4e22-a679-beaccb5f42c0"
      },
      "execution_count": null,
      "outputs": [
        {
          "output_type": "stream",
          "name": "stdout",
          "text": [
            "Linear reggresion model PM2.5\n",
            "\n",
            "RMSE:14.699\n",
            "MSE:216.061\n",
            "MAE:216.061\n",
            "R2:0.230\n"
          ]
        }
      ]
    }
  ]
}